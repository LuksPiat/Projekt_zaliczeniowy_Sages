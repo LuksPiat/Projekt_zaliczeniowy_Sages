{
 "cells": [
  {
   "cell_type": "markdown",
   "metadata": {},
   "source": [
    "# Projekt zaliczeniowy Sages Data Science \n",
    "## Łukasz Piątkowski\n",
    "## Temat 2"
   ]
  },
  {
   "cell_type": "markdown",
   "metadata": {},
   "source": [
    "#### Wczytywanie pakietów"
   ]
  },
  {
   "cell_type": "code",
   "execution_count": 260,
   "metadata": {},
   "outputs": [],
   "source": [
    "from sklearn.preprocessing import LabelEncoder\n",
    "from sklearn.preprocessing import OneHotEncoder\n",
    "from sklearn.preprocessing import StandardScaler\n",
    "from xgboost.sklearn import XGBClassifier\n",
    "from sklearn.tree import DecisionTreeClassifier\n",
    "from sklearn.linear_model import LogisticRegression\n",
    "from sklearn.ensemble import BaggingClassifier\n",
    "from sklearn.ensemble import RandomForestClassifier\n",
    "from sklearn.model_selection import cross_val_score, train_test_split, GridSearchCV, RandomizedSearchCV\n",
    "from sklearn.metrics import accuracy_score, f1_score, roc_auc_score,roc_curve\n",
    "from sklearn.pipeline import make_pipeline, Pipeline\n",
    "import pandas as pd\n",
    "import numpy as np\n",
    "import matplotlib.pyplot as plt\n",
    "import pprint\n",
    "%matplotlib inline\n",
    "\n",
    "from warnings import filterwarnings\n",
    "filterwarnings(\"ignore\")"
   ]
  },
  {
   "cell_type": "markdown",
   "metadata": {},
   "source": [
    "###### Wczytanie danych"
   ]
  },
  {
   "cell_type": "code",
   "execution_count": 261,
   "metadata": {},
   "outputs": [],
   "source": [
    "data = pd.read_csv('https://raw.githubusercontent.com/saimadhu-polamuri/DataHakthon3X/master/dataSet/Train.csv',encoding=\"latin1\")\n",
    "# Usuwam poniższe kolumny. LoggedIn było wymagane w zadaniu. Pozostałe postanowiłem sam usunąć\n",
    "data.drop([\"ID\",\"LoggedIn\",\"Lead_Creation_Date\"],axis=1,inplace=True)"
   ]
  },
  {
   "cell_type": "code",
   "execution_count": 262,
   "metadata": {},
   "outputs": [
    {
     "name": "stdout",
     "output_type": "stream",
     "text": [
      "<class 'pandas.core.frame.DataFrame'>\n",
      "RangeIndex: 87020 entries, 0 to 87019\n",
      "Data columns (total 23 columns):\n",
      "Gender                   87020 non-null object\n",
      "City                     86017 non-null object\n",
      "Monthly_Income           87020 non-null int64\n",
      "DOB                      87020 non-null object\n",
      "Loan_Amount_Applied      86949 non-null float64\n",
      "Loan_Tenure_Applied      86949 non-null float64\n",
      "Existing_EMI             86949 non-null float64\n",
      "Employer_Name            86949 non-null object\n",
      "Salary_Account           75256 non-null object\n",
      "Mobile_Verified          87020 non-null object\n",
      "Var5                     87020 non-null int64\n",
      "Var1                     87020 non-null object\n",
      "Loan_Amount_Submitted    52407 non-null float64\n",
      "Loan_Tenure_Submitted    52407 non-null float64\n",
      "Interest_Rate            27726 non-null float64\n",
      "Processing_Fee           27420 non-null float64\n",
      "EMI_Loan_Submitted       27726 non-null float64\n",
      "Filled_Form              87020 non-null object\n",
      "Device_Type              87020 non-null object\n",
      "Var2                     87020 non-null object\n",
      "Source                   87020 non-null object\n",
      "Var4                     87020 non-null int64\n",
      "Disbursed                87020 non-null int64\n",
      "dtypes: float64(8), int64(4), object(11)\n",
      "memory usage: 15.3+ MB\n"
     ]
    }
   ],
   "source": [
    "# Sprawdzenie jak wyglądają dane\n",
    "data.info()"
   ]
  },
  {
   "cell_type": "markdown",
   "metadata": {},
   "source": [
    "#### Napisałem kilka funkcji które będę później wykorzystywał"
   ]
  },
  {
   "cell_type": "code",
   "execution_count": 263,
   "metadata": {},
   "outputs": [],
   "source": [
    "def statistics(X):\n",
    "    for i in X:\n",
    "        len_series = len(pd.DataFrame(X[i]))\n",
    "        nan_series = int(pd.Series(X[i]).isna().value_counts()[0])\n",
    "        if X[i].dtype != 'O':\n",
    "            print(f\"{X[i].name}:{'---'*4}\\n\\tunique values:{len(X[i].unique())} \\\n",
    "            \\n\\tno of NAN:{len(X[i])-X[i].isna().value_counts()[0]} \\\n",
    "            \\n\\tmax:{X[i].max()}\\n\\tmin:{X[i].min()} \\\n",
    "            \\n\\tstd:{round(X[i].std(),2)} \\\n",
    "            \\n\\tmean:{round(X[i].sum()/len(X[i]),3)}\")            \n",
    "            \n",
    "            if len_series == nan_series:\n",
    "                  print (f\"\\t% NAN: 0%\")\n",
    "                  \n",
    "            else:\n",
    "                  print(f\"\\t% NAN:{(round((1-(nan_series/len_series))*100,2))}%\")\n",
    "\n",
    "        else:\n",
    "            print(f\"{X[i].name}:{'---'*4}\\n\\tunique values:{len(X[i].unique())} \\\n",
    "            \\n\\tno of NAN:{len(X[i])-X[i].isna().value_counts()[0]} \\\n",
    "            \\n\\tmax:{X[i].max()} \\\n",
    "            \\n\\tmin:{X[i].min()}\")\n",
    "            if len_series == nan_series:\n",
    "                  print (f\"\\t% NAN: 0%\")\n",
    "                  \n",
    "            else:\n",
    "                  print(f\"\\t% NAN:{(round((1-(nan_series/len_series))*100,2))}%\")\n",
    "     \n",
    "\n",
    "def frequency(X):\n",
    "    for col in X:\n",
    "        print(f\"{X[col].name}:{'-----------'}\\nlen:{len(X[col])}\\nmost frequent:\\n{X[col].value_counts().head(20)}\")\n",
    "        \n",
    "\n",
    "def statistics_max(X,X1):\n",
    "    print(f\"{X.name}_train:{'---'*2}\")\n",
    "    print(statistics(pd.DataFrame(X)))\n",
    "    print(frequency(pd.DataFrame(X)))\n",
    "    print(f\"\\n{X1.name}_test:{'-----'}\")\n",
    "    print(statistics(pd.DataFrame(X1)))\n",
    "    print(frequency(pd.DataFrame(X1)))\n",
    "                  \n",
    "                  \n",
    "def uniqe_val(X):\n",
    "    for col in X.columns:\n",
    "        if len(X[col].unique())==2:\n",
    "            print(f\"{X[col].name}_test--------- \\\n",
    "            \\n\\tnumber of NAN:{len(X[col])-X[col].isna().value_counts()[0]}\\n\\t{type(X[col][1])}\")                     \n"
   ]
  },
  {
   "cell_type": "code",
   "execution_count": 264,
   "metadata": {},
   "outputs": [
    {
     "name": "stdout",
     "output_type": "stream",
     "text": [
      "Disbursed:------------\n",
      "\tunique values:2             \n",
      "\tno of NAN:0             \n",
      "\tmax:1\n",
      "\tmin:0             \n",
      "\tstd:0.12             \n",
      "\tmean:0.015\n",
      "\t% NAN: 0%\n"
     ]
    }
   ],
   "source": [
    "# sprawdzenie czy y zawiera NAN.\n",
    "statistics(pd.DataFrame(data.Disbursed))"
   ]
  },
  {
   "cell_type": "markdown",
   "metadata": {},
   "source": [
    "#### wydzielenie X oraz y oraz podzielenie zbioru na ternigowy i testowy"
   ]
  },
  {
   "cell_type": "code",
   "execution_count": 265,
   "metadata": {},
   "outputs": [],
   "source": [
    "y = data.Disbursed\n",
    "X = data.drop([\"Disbursed\"],axis=1)\n",
    "\n",
    "X_train, X_test, y_train, y_test = train_test_split(X,y,test_size=0.3)\n",
    "\n",
    "# reset indexów niezbędny na późniejszym etapie\n",
    "X_train = X_train.reset_index()\n",
    "X_test = X_test.reset_index()\n",
    "X_train.drop([\"index\"],axis=1,inplace=True)\n",
    "X_test.drop([\"index\"],axis=1,inplace=True)\n",
    "\n",
    "y_train = y_train.reset_index()\n",
    "y_test = y_test.reset_index()\n",
    "y_train.drop([\"index\"],axis=1,inplace=True)\n",
    "y_test.drop([\"index\"],axis=1,inplace=True)"
   ]
  },
  {
   "cell_type": "markdown",
   "metadata": {},
   "source": [
    "## Przygotowanie danych\n",
    "### Kolumny numeryczne"
   ]
  },
  {
   "cell_type": "markdown",
   "metadata": {},
   "source": [
    "#### Monthly Incoem"
   ]
  },
  {
   "cell_type": "code",
   "execution_count": 266,
   "metadata": {},
   "outputs": [
    {
     "name": "stdout",
     "output_type": "stream",
     "text": [
      "Monthly_Income_train:------\n",
      "Monthly_Income:------------\n",
      "\tunique values:4552             \n",
      "\tno of NAN:0             \n",
      "\tmax:383838383\n",
      "\tmin:0             \n",
      "\tstd:1757943.76             \n",
      "\tmean:55385.089\n",
      "\t% NAN: 0%\n",
      "None\n",
      "Monthly_Income:-----------\n",
      "len:60914\n",
      "most frequent:\n",
      "25000     4037\n",
      "20000     3150\n",
      "15000     2958\n",
      "30000     2199\n",
      "50000     1689\n",
      "10000     1511\n",
      "18000     1507\n",
      "12000     1323\n",
      "40000     1312\n",
      "35000     1229\n",
      "22000     1135\n",
      "16000     1065\n",
      "17000      967\n",
      "23000      827\n",
      "21000      750\n",
      "45000      738\n",
      "60000      712\n",
      "13000      706\n",
      "14000      705\n",
      "100000     703\n",
      "Name: Monthly_Income, dtype: int64\n",
      "None\n",
      "\n",
      "Monthly_Income_test:-----\n",
      "Monthly_Income:------------\n",
      "\tunique values:2604             \n",
      "\tno of NAN:0             \n",
      "\tmax:444554443\n",
      "\tmin:0             \n",
      "\tstd:2931638.4             \n",
      "\tmean:66934.708\n",
      "\t% NAN: 0%\n",
      "None\n",
      "Monthly_Income:-----------\n",
      "len:26106\n",
      "most frequent:\n",
      "25000    1786\n",
      "20000    1373\n",
      "15000    1288\n",
      "30000    1017\n",
      "50000     703\n",
      "18000     633\n",
      "10000     625\n",
      "12000     572\n",
      "35000     569\n",
      "40000     544\n",
      "22000     473\n",
      "16000     464\n",
      "17000     369\n",
      "21000     363\n",
      "23000     319\n",
      "14000     312\n",
      "45000     296\n",
      "32000     293\n",
      "28000     283\n",
      "13000     269\n",
      "Name: Monthly_Income, dtype: int64\n",
      "None\n"
     ]
    }
   ],
   "source": [
    "# statystyki\n",
    "statistics_max(X_train.Monthly_Income,X_test.Monthly_Income)"
   ]
  },
  {
   "cell_type": "code",
   "execution_count": 267,
   "metadata": {},
   "outputs": [
    {
     "data": {
      "image/png": "[encoded data removed]",
      "text/plain": [
       "<Figure size 1440x576 with 1 Axes>"
      ]
     },
     "metadata": {
      "needs_background": "light"
     },
     "output_type": "display_data"
    }
   ],
   "source": [
    "# sprawdzenie rozkładu Monthly Income\n",
    "# rozkład jest bardzo niesymetryczny wiec wyciągnę logarytm\n",
    "x = X_train.Monthly_Income\n",
    "plt.figure(figsize=(20,8))\n",
    "plt.hist(x)\n",
    "plt.xticks(rotation=90)\n",
    "plt.show()"
   ]
  },
  {
   "cell_type": "code",
   "execution_count": 268,
   "metadata": {},
   "outputs": [],
   "source": [
    "# logarytm dla wartości różnych od 0\n",
    "X_train.Monthly_Income = X_train.Monthly_Income.apply(lambda x: x if np.any(x==0) else np.log(x))\n",
    "X_test.Monthly_Income = X_test.Monthly_Income.apply(lambda x: x if np.any(x==0) else np.log(x))"
   ]
  },
  {
   "cell_type": "code",
   "execution_count": 269,
   "metadata": {},
   "outputs": [
    {
     "data": {
      "image/png": "[encoded data removed]",
      "text/plain": [
       "<Figure size 1440x576 with 1 Axes>"
      ]
     },
     "metadata": {
      "needs_background": "light"
     },
     "output_type": "display_data"
    }
   ],
   "source": [
    "# rozkład wartości Monthly Income po  przekształceniu\n",
    "x = X_train.Monthly_Income\n",
    "plt.figure(figsize=(20,8))\n",
    "plt.hist(x)\n",
    "plt.xticks(rotation=90)\n",
    "plt.show()"
   ]
  },
  {
   "cell_type": "markdown",
   "metadata": {},
   "source": [
    "### Loan_Amount_Applied"
   ]
  },
  {
   "cell_type": "code",
   "execution_count": 270,
   "metadata": {},
   "outputs": [
    {
     "name": "stdout",
     "output_type": "stream",
     "text": [
      "Loan_Amount_Applied_train:------\n",
      "Loan_Amount_Applied:------------\n",
      "\tunique values:226             \n",
      "\tno of NAN:49             \n",
      "\tmax:10000000.0\n",
      "\tmin:0.0             \n",
      "\tstd:353294.99             \n",
      "\tmean:229676.043\n",
      "\t% NAN:0.08%\n",
      "None\n",
      "Loan_Amount_Applied:-----------\n",
      "len:60914\n",
      "most frequent:\n",
      "0.0          20151\n",
      "100000.0     10074\n",
      "200000.0      9169\n",
      "300000.0      7006\n",
      "500000.0      6832\n",
      "1000000.0     2900\n",
      "50000.0        867\n",
      "400000.0       404\n",
      "150000.0       378\n",
      "1500000.0      256\n",
      "600000.0       249\n",
      "700000.0       242\n",
      "800000.0       162\n",
      "2000000.0      144\n",
      "250000.0       141\n",
      "60000.0        137\n",
      "30000.0        109\n",
      "350000.0       101\n",
      "2500000.0       97\n",
      "70000.0         93\n",
      "Name: Loan_Amount_Applied, dtype: int64\n",
      "None\n",
      "\n",
      "Loan_Amount_Applied_test:-----\n",
      "Loan_Amount_Applied:------------\n",
      "\tunique values:168             \n",
      "\tno of NAN:22             \n",
      "\tmax:9000000.0\n",
      "\tmin:0.0             \n",
      "\tstd:356330.38             \n",
      "\tmean:230965.358\n",
      "\t% NAN:0.08%\n",
      "None\n",
      "Loan_Amount_Applied:-----------\n",
      "len:26106\n",
      "most frequent:\n",
      "0.0          8702\n",
      "100000.0     4237\n",
      "200000.0     3889\n",
      "300000.0     2989\n",
      "500000.0     2930\n",
      "1000000.0    1295\n",
      "50000.0       378\n",
      "150000.0      162\n",
      "600000.0      142\n",
      "400000.0      142\n",
      "1500000.0     118\n",
      "700000.0      101\n",
      "2000000.0      71\n",
      "60000.0        70\n",
      "800000.0       65\n",
      "250000.0       51\n",
      "30000.0        49\n",
      "350000.0       43\n",
      "70000.0        37\n",
      "2500000.0      37\n",
      "Name: Loan_Amount_Applied, dtype: int64\n",
      "None\n"
     ]
    }
   ],
   "source": [
    "# Statystyki dla Loan_Amount_Applied\n",
    "statistics_max(X_train.Loan_Amount_Applied,X_test.Loan_Amount_Applied)"
   ]
  },
  {
   "cell_type": "code",
   "execution_count": 271,
   "metadata": {},
   "outputs": [],
   "source": [
    "# Kolumy Loan _Amount_Applied rownież postanowiłem nie zmianić poza uzupełnienim NAN\n",
    "## uzupełnianie braków najczęścej występującą wartością ze względu iż te dane odzwierciedlaja prawdopodobnie proces\n",
    "# braku danych jest bardzo niewiele dlatego zastępuje je najczęściej występującą wartością\n",
    "\n",
    "X_train.Loan_Amount_Applied.replace({np.NAN:0},inplace=True)\n",
    "X_test.Loan_Amount_Applied.replace({np.NAN:0},inplace=True)"
   ]
  },
  {
   "cell_type": "markdown",
   "metadata": {},
   "source": [
    "### Loan_Tenure_Applied"
   ]
  },
  {
   "cell_type": "code",
   "execution_count": 272,
   "metadata": {},
   "outputs": [
    {
     "name": "stdout",
     "output_type": "stream",
     "text": [
      "Loan_Tenure_Applied_train:------\n",
      "Loan_Tenure_Applied:------------\n",
      "\tunique values:11             \n",
      "\tno of NAN:49             \n",
      "\tmax:10.0\n",
      "\tmin:0.0             \n",
      "\tstd:2.01             \n",
      "\tmean:2.129\n",
      "\t% NAN:0.08%\n",
      "None\n",
      "Loan_Tenure_Applied:-----------\n",
      "len:60914\n",
      "most frequent:\n",
      "0.0     23659\n",
      "5.0     13309\n",
      "3.0      9202\n",
      "2.0      6628\n",
      "4.0      4651\n",
      "1.0      3385\n",
      "10.0       27\n",
      "6.0         2\n",
      "7.0         1\n",
      "9.0         1\n",
      "Name: Loan_Tenure_Applied, dtype: int64\n",
      "None\n",
      "\n",
      "Loan_Tenure_Applied_test:-----\n",
      "Loan_Tenure_Applied:------------\n",
      "\tunique values:10             \n",
      "\tno of NAN:22             \n",
      "\tmax:10.0\n",
      "\tmin:0.0             \n",
      "\tstd:2.02             \n",
      "\tmean:2.131\n",
      "\t% NAN:0.08%\n",
      "None\n",
      "Loan_Tenure_Applied:-----------\n",
      "len:26106\n",
      "most frequent:\n",
      "0.0     10185\n",
      "5.0      5774\n",
      "3.0      3878\n",
      "2.0      2835\n",
      "4.0      1969\n",
      "1.0      1427\n",
      "10.0       13\n",
      "7.0         2\n",
      "8.0         1\n",
      "Name: Loan_Tenure_Applied, dtype: int64\n",
      "None\n"
     ]
    }
   ],
   "source": [
    "# Statystyki dla Loan_Tenure_Applied\n",
    "statistics_max(X_train.Loan_Tenure_Applied,X_test.Loan_Tenure_Applied)"
   ]
  },
  {
   "cell_type": "code",
   "execution_count": 273,
   "metadata": {},
   "outputs": [],
   "source": [
    "# Zamiana na 0 bo ilość nan jest nieznacząca a 0 to wartość najczęściej występująca\n",
    "X_train.Loan_Tenure_Applied.replace({np.NAN:0},inplace=True)\n",
    "X_test.Loan_Tenure_Applied.replace({np.NAN:0},inplace=True)\n"
   ]
  },
  {
   "cell_type": "markdown",
   "metadata": {},
   "source": [
    "### Existing_EMI"
   ]
  },
  {
   "cell_type": "code",
   "execution_count": 274,
   "metadata": {},
   "outputs": [
    {
     "name": "stdout",
     "output_type": "stream",
     "text": [
      "Existing_EMI_train:------\n",
      "Existing_EMI:------------\n",
      "\tunique values:2954             \n",
      "\tno of NAN:49             \n",
      "\tmax:10000000.0\n",
      "\tmin:0.0             \n",
      "\tstd:41642.84             \n",
      "\tmean:3678.35\n",
      "\t% NAN:0.08%\n",
      "None\n",
      "Existing_EMI:-----------\n",
      "len:60914\n",
      "most frequent:\n",
      "0.0        40649\n",
      "5000.0      1866\n",
      "10000.0     1215\n",
      "3000.0      1147\n",
      "4000.0       899\n",
      "2000.0       806\n",
      "6000.0       602\n",
      "15000.0      563\n",
      "8000.0       540\n",
      "2500.0       524\n",
      "7000.0       521\n",
      "3500.0       431\n",
      "20000.0      374\n",
      "12000.0      342\n",
      "9000.0       246\n",
      "1000.0       228\n",
      "4500.0       223\n",
      "1500.0       220\n",
      "11000.0      205\n",
      "25000.0      202\n",
      "Name: Existing_EMI, dtype: int64\n",
      "None\n",
      "\n",
      "Existing_EMI_test:-----\n",
      "Existing_EMI:------------\n",
      "\tunique values:1609             \n",
      "\tno of NAN:22             \n",
      "\tmax:5454365.0\n",
      "\tmin:0.0             \n",
      "\tstd:35165.13             \n",
      "\tmean:3727.89\n",
      "\t% NAN:0.08%\n",
      "None\n",
      "Existing_EMI:-----------\n",
      "len:26106\n",
      "most frequent:\n",
      "0.0        17589\n",
      "5000.0       829\n",
      "10000.0      522\n",
      "3000.0       434\n",
      "4000.0       327\n",
      "2000.0       291\n",
      "8000.0       246\n",
      "15000.0      237\n",
      "6000.0       235\n",
      "2500.0       203\n",
      "7000.0       197\n",
      "3500.0       170\n",
      "20000.0      147\n",
      "12000.0      138\n",
      "4500.0       117\n",
      "9000.0       115\n",
      "1500.0       103\n",
      "1000.0        95\n",
      "7500.0        88\n",
      "25000.0       80\n",
      "Name: Existing_EMI, dtype: int64\n",
      "None\n"
     ]
    }
   ],
   "source": [
    "# Statystyki dla Existing_EMI\n",
    "statistics_max(X_train.Existing_EMI,X_test.Existing_EMI)"
   ]
  },
  {
   "cell_type": "code",
   "execution_count": 275,
   "metadata": {},
   "outputs": [],
   "source": [
    "# zmiana typu na najczęściej występującą wartoś. Uzasadnienie jak wcześniej\n",
    "X_train.Existing_EMI.replace({np.NAN: 0},inplace=True)\n",
    "X_test.Existing_EMI.replace({np.NAN: 0},inplace=True)"
   ]
  },
  {
   "cell_type": "markdown",
   "metadata": {},
   "source": [
    "### Var5"
   ]
  },
  {
   "cell_type": "code",
   "execution_count": 276,
   "metadata": {},
   "outputs": [
    {
     "name": "stdout",
     "output_type": "stream",
     "text": [
      "Var5_train:------\n",
      "Var5:------------\n",
      "\tunique values:19             \n",
      "\tno of NAN:0             \n",
      "\tmax:18\n",
      "\tmin:0             \n",
      "\tstd:5.67             \n",
      "\tmean:4.961\n",
      "\t% NAN: 0%\n",
      "None\n",
      "Var5:-----------\n",
      "len:60914\n",
      "most frequent:\n",
      "0     20368\n",
      "1      8594\n",
      "3      4733\n",
      "11     3664\n",
      "2      3091\n",
      "14     2547\n",
      "15     2496\n",
      "12     2096\n",
      "13     1819\n",
      "8      1736\n",
      "10     1718\n",
      "9      1594\n",
      "16     1430\n",
      "4      1274\n",
      "17     1194\n",
      "7      1035\n",
      "6       699\n",
      "5       691\n",
      "18      135\n",
      "Name: Var5, dtype: int64\n",
      "None\n",
      "\n",
      "Var5_test:-----\n",
      "Var5:------------\n",
      "\tunique values:19             \n",
      "\tno of NAN:0             \n",
      "\tmax:18\n",
      "\tmin:0             \n",
      "\tstd:5.67             \n",
      "\tmean:4.963\n",
      "\t% NAN: 0%\n",
      "None\n",
      "Var5:-----------\n",
      "len:26106\n",
      "most frequent:\n",
      "0     8719\n",
      "1     3642\n",
      "3     2026\n",
      "11    1540\n",
      "2     1394\n",
      "14    1115\n",
      "15    1013\n",
      "12     893\n",
      "13     803\n",
      "8      779\n",
      "10     709\n",
      "9      687\n",
      "16     667\n",
      "4      541\n",
      "17     497\n",
      "7      454\n",
      "5      284\n",
      "6      284\n",
      "18      59\n",
      "Name: Var5, dtype: int64\n",
      "None\n"
     ]
    }
   ],
   "source": [
    "# statystyki dla Var5\n",
    "statistics_max(X_train.Var5,X_test.Var5)"
   ]
  },
  {
   "cell_type": "code",
   "execution_count": 277,
   "metadata": {},
   "outputs": [
    {
     "data": {
      "image/png": "[encoded data removed]",
      "text/plain": [
       "<Figure size 864x576 with 1 Axes>"
      ]
     },
     "metadata": {
      "needs_background": "light"
     },
     "output_type": "display_data"
    }
   ],
   "source": [
    "# rozkład przed pogrupowaniem\n",
    "x = X_train.Var5\n",
    "plt.figure(figsize=(12,8))\n",
    "plt.hist(x)\n",
    "plt.xticks(rotation=90)\n",
    "plt.show()"
   ]
  },
  {
   "cell_type": "code",
   "execution_count": 278,
   "metadata": {},
   "outputs": [],
   "source": [
    "# potrzebne do pogrupowania\n",
    "X_train = X_train.astype({\"Monthly_Income\":int})\n",
    "X_test = X_test.astype({\"Monthly_Income\":int})"
   ]
  },
  {
   "cell_type": "code",
   "execution_count": 279,
   "metadata": {},
   "outputs": [],
   "source": [
    "# Pogrupowanie Var5 za pomocą oneho oraz DecisionTreeClassifier\n",
    "# na 5 wartości na zasadzie eksperckiej\n",
    "onehot_encoder = OneHotEncoder(handle_unknown=\"ignore\")\n",
    "level_grouper = DecisionTreeClassifier(max_leaf_nodes=5)\n",
    "\n",
    "tr_onehot = onehot_encoder.fit_transform(X_train[[\"Var5\"]])\n",
    "level_grouper.fit(tr_onehot, X_train.Monthly_Income)\n",
    "\n",
    "X_train[\"Var5\"] = level_grouper.apply(tr_onehot)   \n",
    "X_test[\"Var5\"] = level_grouper.apply(onehot_encoder.transform(X_test[[\"Var5\"]]))"
   ]
  },
  {
   "cell_type": "code",
   "execution_count": 280,
   "metadata": {},
   "outputs": [
    {
     "data": {
      "image/png": "[encoded data removed]",
      "text/plain": [
       "<Figure size 864x576 with 1 Axes>"
      ]
     },
     "metadata": {
      "needs_background": "light"
     },
     "output_type": "display_data"
    }
   ],
   "source": [
    "# rozkład po pogrupowaniu\n",
    "x = X_train.Var5\n",
    "plt.figure(figsize=(12,8))\n",
    "plt.hist(x)\n",
    "plt.xticks(rotation=90)\n",
    "plt.show()"
   ]
  },
  {
   "cell_type": "markdown",
   "metadata": {},
   "source": [
    "### Loan_Amount_Submitted"
   ]
  },
  {
   "cell_type": "code",
   "execution_count": 281,
   "metadata": {},
   "outputs": [
    {
     "name": "stdout",
     "output_type": "stream",
     "text": [
      "Loan_Amount_Submitted_train:------\n",
      "Loan_Amount_Submitted:------------\n",
      "\tunique values:191             \n",
      "\tno of NAN:24173             \n",
      "\tmax:3000000.0\n",
      "\tmin:50000.0             \n",
      "\tstd:308161.89             \n",
      "\tmean:237868.142\n",
      "\t% NAN:39.68%\n",
      "None\n",
      "Loan_Amount_Submitted:-----------\n",
      "len:60914\n",
      "most frequent:\n",
      "100000.0     4906\n",
      "200000.0     4595\n",
      "300000.0     3767\n",
      "500000.0     3395\n",
      "1000000.0    1143\n",
      "400000.0      876\n",
      "290000.0      727\n",
      "360000.0      569\n",
      "350000.0      556\n",
      "420000.0      538\n",
      "150000.0      528\n",
      "340000.0      516\n",
      "330000.0      510\n",
      "450000.0      492\n",
      "1500000.0     471\n",
      "320000.0      441\n",
      "390000.0      434\n",
      "240000.0      396\n",
      "1200000.0     345\n",
      "250000.0      344\n",
      "Name: Loan_Amount_Submitted, dtype: int64\n",
      "None\n",
      "\n",
      "Loan_Amount_Submitted_test:-----\n",
      "Loan_Amount_Submitted:------------\n",
      "\tunique values:176             \n",
      "\tno of NAN:10440             \n",
      "\tmax:3000000.0\n",
      "\tmin:50000.0             \n",
      "\tstd:308454.9             \n",
      "\tmean:237946.066\n",
      "\t% NAN:39.99%\n",
      "None\n",
      "Loan_Amount_Submitted:-----------\n",
      "len:26106\n",
      "most frequent:\n",
      "200000.0     1988\n",
      "100000.0     1978\n",
      "300000.0     1618\n",
      "500000.0     1454\n",
      "1000000.0     501\n",
      "400000.0      353\n",
      "290000.0      312\n",
      "350000.0      264\n",
      "360000.0      247\n",
      "450000.0      236\n",
      "420000.0      236\n",
      "330000.0      224\n",
      "340000.0      222\n",
      "320000.0      214\n",
      "150000.0      209\n",
      "240000.0      184\n",
      "1500000.0     181\n",
      "390000.0      167\n",
      "220000.0      159\n",
      "1200000.0     158\n",
      "Name: Loan_Amount_Submitted, dtype: int64\n",
      "None\n"
     ]
    }
   ],
   "source": [
    "# statystyki dla Loan_Amount_Submitted\n",
    "statistics_max(X_train.Loan_Amount_Submitted,X_test.Loan_Amount_Submitted)"
   ]
  },
  {
   "cell_type": "code",
   "execution_count": 282,
   "metadata": {},
   "outputs": [
    {
     "data": {
      "image/png": "[encoded data removed]",
      "text/plain": [
       "<Figure size 864x576 with 1 Axes>"
      ]
     },
     "metadata": {
      "needs_background": "light"
     },
     "output_type": "display_data"
    }
   ],
   "source": [
    "# rozkład wartości\n",
    "x = X_train.Loan_Amount_Submitted\n",
    "plt.figure(figsize=(12,8))\n",
    "plt.hist(x)\n",
    "plt.xticks(rotation=90)\n",
    "plt.show()"
   ]
  },
  {
   "cell_type": "code",
   "execution_count": 283,
   "metadata": {},
   "outputs": [],
   "source": [
    "# Dane wyglądają jak część procedu. Nan stanowią ok 40% obserwacji w każdym zbiorze.\n",
    "# Nan uzupełniam średnią\n",
    "X_train.Loan_Amount_Submitted.replace({np.NAN: np.mean(X_train.Loan_Amount_Submitted)},inplace=True)\n",
    "X_test.Loan_Amount_Submitted.replace({np.NAN: np.mean(X_test.Loan_Amount_Submitted)},inplace=True)"
   ]
  },
  {
   "cell_type": "code",
   "execution_count": 284,
   "metadata": {},
   "outputs": [
    {
     "data": {
      "image/png": "[encoded data removed]",
      "text/plain": [
       "<Figure size 864x576 with 1 Axes>"
      ]
     },
     "metadata": {
      "needs_background": "light"
     },
     "output_type": "display_data"
    }
   ],
   "source": [
    "# rozkład wartości po przekształceniu\n",
    "x = X_train.Loan_Amount_Submitted\n",
    "plt.figure(figsize=(12,8))\n",
    "plt.hist(x)\n",
    "plt.xticks(rotation=90)\n",
    "plt.show()"
   ]
  },
  {
   "cell_type": "markdown",
   "metadata": {},
   "source": [
    "### Loan_Tenure_Submitted"
   ]
  },
  {
   "cell_type": "code",
   "execution_count": 203,
   "metadata": {},
   "outputs": [
    {
     "name": "stdout",
     "output_type": "stream",
     "text": [
      "Loan_Tenure_Submitted_train:------\n",
      "Loan_Tenure_Submitted:------------\n",
      "\tunique values:7             \n",
      "\tno of NAN:24207             \n",
      "\tmax:6.0\n",
      "\tmin:1.0             \n",
      "\tstd:1.16             \n",
      "\tmean:2.348\n",
      "\t% NAN:39.74%\n",
      "None\n",
      "Loan_Tenure_Submitted:-----------\n",
      "len:60914\n",
      "most frequent:\n",
      "5.0    14591\n",
      "4.0    10629\n",
      "3.0     6177\n",
      "2.0     3716\n",
      "1.0     1591\n",
      "6.0        3\n",
      "Name: Loan_Tenure_Submitted, dtype: int64\n",
      "None\n",
      "\n",
      "Loan_Tenure_Submitted_test:-----\n",
      "Loan_Tenure_Submitted:------------\n",
      "\tunique values:6             \n",
      "\tno of NAN:10406             \n",
      "\tmax:5.0\n",
      "\tmin:1.0             \n",
      "\tstd:1.17             \n",
      "\tmean:2.332\n",
      "\t% NAN:39.86%\n",
      "None\n",
      "Loan_Tenure_Submitted:-----------\n",
      "len:26106\n",
      "most frequent:\n",
      "5.0    6174\n",
      "4.0    4506\n",
      "3.0    2681\n",
      "2.0    1616\n",
      "1.0     723\n",
      "Name: Loan_Tenure_Submitted, dtype: int64\n",
      "None\n"
     ]
    }
   ],
   "source": [
    "# statystyki\n",
    "statistics_max(X_train.Loan_Tenure_Submitted,X_test.Loan_Tenure_Submitted)"
   ]
  },
  {
   "cell_type": "code",
   "execution_count": 285,
   "metadata": {},
   "outputs": [
    {
     "data": {
      "image/png": "[encoded data removed]",
      "text/plain": [
       "<Figure size 864x576 with 1 Axes>"
      ]
     },
     "metadata": {
      "needs_background": "light"
     },
     "output_type": "display_data"
    }
   ],
   "source": [
    "# rozkład wartości\n",
    "x = X_train.Loan_Tenure_Submitted\n",
    "plt.figure(figsize=(12,8))\n",
    "plt.hist(x)\n",
    "plt.xticks(rotation=90)\n",
    "plt.show()"
   ]
  },
  {
   "cell_type": "code",
   "execution_count": 286,
   "metadata": {},
   "outputs": [],
   "source": [
    "# Dane wyglądają jak część procedu. Nan stanowią ok 40% obserwacji w każdym zbirze.\n",
    "# nan uzupełniam średnią\n",
    "\n",
    "X_train.Loan_Tenure_Submitted.replace({np.NAN: np.mean(X_train.Loan_Tenure_Submitted)},inplace=True)\n",
    "X_test.Loan_Tenure_Submitted.replace({np.NAN: np.mean(X_test.Loan_Tenure_Submitted)},inplace=True)\n"
   ]
  },
  {
   "cell_type": "code",
   "execution_count": 287,
   "metadata": {},
   "outputs": [
    {
     "data": {
      "image/png": "[encoded data removed]",
      "text/plain": [
       "<Figure size 864x576 with 1 Axes>"
      ]
     },
     "metadata": {
      "needs_background": "light"
     },
     "output_type": "display_data"
    }
   ],
   "source": [
    "# rozkład po uzupełnieniu\n",
    "x = X_train.Loan_Tenure_Submitted\n",
    "plt.figure(figsize=(12,8))\n",
    "plt.hist(x)\n",
    "plt.xticks(rotation=90)\n",
    "plt.show()"
   ]
  },
  {
   "cell_type": "markdown",
   "metadata": {},
   "source": [
    "### Interest_Rate"
   ]
  },
  {
   "cell_type": "code",
   "execution_count": 288,
   "metadata": {},
   "outputs": [
    {
     "name": "stdout",
     "output_type": "stream",
     "text": [
      "Interest_Rate_train:------\n",
      "Interest_Rate:------------\n",
      "\tunique values:73             \n",
      "\tno of NAN:41534             \n",
      "\tmax:37.0\n",
      "\tmin:11.99             \n",
      "\tstd:5.82             \n",
      "\tmean:6.104\n",
      "\t% NAN:68.18%\n",
      "None\n",
      "Interest_Rate:-----------\n",
      "len:60914\n",
      "most frequent:\n",
      "20.00    3325\n",
      "14.85    1406\n",
      "13.99    1215\n",
      "31.50    1181\n",
      "15.25    1092\n",
      "16.75    1046\n",
      "18.25     931\n",
      "15.50     895\n",
      "28.50     690\n",
      "18.40     552\n",
      "13.00     455\n",
      "24.00     428\n",
      "19.00     424\n",
      "15.75     370\n",
      "18.15     352\n",
      "13.50     348\n",
      "18.00     341\n",
      "35.50     333\n",
      "17.00     314\n",
      "16.25     270\n",
      "Name: Interest_Rate, dtype: int64\n",
      "None\n",
      "\n",
      "Interest_Rate_test:-----\n",
      "Interest_Rate:------------\n",
      "\tunique values:70             \n",
      "\tno of NAN:17760             \n",
      "\tmax:37.0\n",
      "\tmin:11.99             \n",
      "\tstd:5.87             \n",
      "\tmean:6.146\n",
      "\t% NAN:68.03%\n",
      "None\n",
      "Interest_Rate:-----------\n",
      "len:26106\n",
      "most frequent:\n",
      "20.00    1382\n",
      "14.85     610\n",
      "31.50     515\n",
      "13.99     484\n",
      "16.75     472\n",
      "15.25     461\n",
      "15.50     397\n",
      "18.25     381\n",
      "28.50     260\n",
      "18.40     248\n",
      "24.00     221\n",
      "13.00     205\n",
      "19.00     201\n",
      "15.75     187\n",
      "13.50     173\n",
      "35.50     160\n",
      "18.15     154\n",
      "18.00     133\n",
      "17.50     114\n",
      "17.00     102\n",
      "Name: Interest_Rate, dtype: int64\n",
      "None\n"
     ]
    }
   ],
   "source": [
    "# statystyki\n",
    "statistics_max(X_train.Interest_Rate,X_test.Interest_Rate)"
   ]
  },
  {
   "cell_type": "code",
   "execution_count": 289,
   "metadata": {},
   "outputs": [
    {
     "data": {
      "image/png": "[encoded data removed]",
      "text/plain": [
       "<Figure size 864x576 with 1 Axes>"
      ]
     },
     "metadata": {
      "needs_background": "light"
     },
     "output_type": "display_data"
    }
   ],
   "source": [
    "# rozkład przed uzupełneniem\n",
    "x = X_train.Interest_Rate\n",
    "plt.figure(figsize=(12,8))\n",
    "plt.hist(x)\n",
    "plt.xticks(rotation=90)\n",
    "plt.show()"
   ]
  },
  {
   "cell_type": "code",
   "execution_count": 290,
   "metadata": {},
   "outputs": [],
   "source": [
    "# Dane wyglądają jak część procedu. Nan stanowią ok 68% obserwacji w każdym zbirze.\n",
    "\n",
    "X_train = X_train.astype({'Interest_Rate':str})\n",
    "X_test = X_test.astype({'Interest_Rate':str})\n",
    "\n",
    "# Zamiana na wartości 0 gdy nan oraz 1 gdy inna wartość\n",
    "X_train.Interest_Rate = X_train.Interest_Rate.apply(lambda x: 0 if np.any(x=='nan') else 1)\n",
    "X_test.Interest_Rate = X_test.Interest_Rate.apply(lambda x: 0 if np.any(x=='nan') else 1)"
   ]
  },
  {
   "cell_type": "code",
   "execution_count": 291,
   "metadata": {},
   "outputs": [
    {
     "data": {
      "image/png": "[encoded data removed]",
      "text/plain": [
       "<Figure size 864x576 with 1 Axes>"
      ]
     },
     "metadata": {
      "needs_background": "light"
     },
     "output_type": "display_data"
    }
   ],
   "source": [
    "# rozkład po uzupełnieniu\n",
    "x = X_train.Interest_Rate\n",
    "plt.figure(figsize=(12,8))\n",
    "plt.hist(x)\n",
    "plt.xticks(rotation=90)\n",
    "plt.show()"
   ]
  },
  {
   "cell_type": "markdown",
   "metadata": {},
   "source": [
    "### Processing_Fee"
   ]
  },
  {
   "cell_type": "code",
   "execution_count": 292,
   "metadata": {},
   "outputs": [
    {
     "name": "stdout",
     "output_type": "stream",
     "text": [
      "Processing_Fee_train:------\n",
      "Processing_Fee:------------\n",
      "\tunique values:525             \n",
      "\tno of NAN:41743             \n",
      "\tmax:50000.0\n",
      "\tmin:250.0             \n",
      "\tstd:4709.85             \n",
      "\tmean:1607.118\n",
      "\t% NAN:68.53%\n",
      "None\n",
      "Processing_Fee:-----------\n",
      "len:60914\n",
      "most frequent:\n",
      "2000.0     2150\n",
      "1000.0     1489\n",
      "4000.0     1408\n",
      "3000.0      892\n",
      "6000.0      820\n",
      "10000.0     762\n",
      "1500.0      467\n",
      "5000.0      409\n",
      "2500.0      373\n",
      "4500.0      329\n",
      "3800.0      229\n",
      "2900.0      221\n",
      "4200.0      206\n",
      "4400.0      203\n",
      "3600.0      200\n",
      "3300.0      190\n",
      "8000.0      187\n",
      "3500.0      186\n",
      "1600.0      184\n",
      "3200.0      179\n",
      "Name: Processing_Fee, dtype: int64\n",
      "None\n",
      "\n",
      "Processing_Fee_test:-----\n",
      "Processing_Fee:------------\n",
      "\tunique values:419             \n",
      "\tno of NAN:17857             \n",
      "\tmax:50000.0\n",
      "\tmin:200.0             \n",
      "\tstd:4762.59             \n",
      "\tmean:1639.476\n",
      "\t% NAN:68.4%\n",
      "None\n",
      "Processing_Fee:-----------\n",
      "len:26106\n",
      "most frequent:\n",
      "2000.0     924\n",
      "4000.0     598\n",
      "1000.0     578\n",
      "3000.0     394\n",
      "6000.0     363\n",
      "10000.0    331\n",
      "2500.0     179\n",
      "5000.0     175\n",
      "1500.0     174\n",
      "4500.0     139\n",
      "2900.0      96\n",
      "3600.0      96\n",
      "3800.0      90\n",
      "3200.0      88\n",
      "3300.0      86\n",
      "4200.0      81\n",
      "4400.0      79\n",
      "5800.0      78\n",
      "3500.0      78\n",
      "2400.0      76\n",
      "Name: Processing_Fee, dtype: int64\n",
      "None\n"
     ]
    }
   ],
   "source": [
    "# statystyki\n",
    "statistics_max(X_train.Processing_Fee,X_test.Processing_Fee)"
   ]
  },
  {
   "cell_type": "code",
   "execution_count": 293,
   "metadata": {},
   "outputs": [
    {
     "data": {
      "image/png": "[encoded data removed]",
      "text/plain": [
       "<Figure size 864x576 with 1 Axes>"
      ]
     },
     "metadata": {
      "needs_background": "light"
     },
     "output_type": "display_data"
    }
   ],
   "source": [
    "# rozkłąd przed uzupełneniem\n",
    "x = X_train.Processing_Fee\n",
    "plt.figure(figsize=(12,8))\n",
    "plt.hist(x)\n",
    "plt.xticks(rotation=90)\n",
    "plt.show()"
   ]
  },
  {
   "cell_type": "code",
   "execution_count": 294,
   "metadata": {},
   "outputs": [],
   "source": [
    "# Dane wyglądają jak część procedu. Nan stanowią ok 68% obserwacji w każdym zbirze.\n",
    "\n",
    "X_train = X_train.astype({'Processing_Fee':str})\n",
    "X_test = X_test.astype({'Processing_Fee':str})\n",
    "\n",
    "# Zamiana na wartości 0 gdy nan oraz 1 gdy inna wartość\n",
    "X_train.Processing_Fee = X_train.Processing_Fee.apply(lambda x: 0 if np.any(x=='nan') else 1)\n",
    "X_test.Processing_Fee = X_test.Processing_Fee.apply(lambda x: 0 if np.any(x=='nan') else 1)"
   ]
  },
  {
   "cell_type": "code",
   "execution_count": 295,
   "metadata": {},
   "outputs": [
    {
     "data": {
      "image/png": "[encoded data removed]",
      "text/plain": [
       "<Figure size 864x576 with 1 Axes>"
      ]
     },
     "metadata": {
      "needs_background": "light"
     },
     "output_type": "display_data"
    }
   ],
   "source": [
    "# rozkład po uzupełnieniu\n",
    "x = X_train.Processing_Fee\n",
    "plt.figure(figsize=(12,8))\n",
    "plt.hist(x)\n",
    "plt.xticks(rotation=90)\n",
    "plt.show()"
   ]
  },
  {
   "cell_type": "markdown",
   "metadata": {},
   "source": [
    "### EMI_Loan_Submitted"
   ]
  },
  {
   "cell_type": "code",
   "execution_count": 296,
   "metadata": {},
   "outputs": [
    {
     "name": "stdout",
     "output_type": "stream",
     "text": [
      "EMI_Loan_Submitted_train:------\n",
      "EMI_Loan_Submitted:------------\n",
      "\tunique values:3825             \n",
      "\tno of NAN:41534             \n",
      "\tmax:135564.48\n",
      "\tmin:1185.56             \n",
      "\tstd:7494.31             \n",
      "\tmean:3490.932\n",
      "\t% NAN:68.18%\n",
      "None\n",
      "EMI_Loan_Submitted:-----------\n",
      "len:60914\n",
      "most frequent:\n",
      "3716.36     203\n",
      "5089.58     179\n",
      "7948.17     173\n",
      "5298.78     167\n",
      "10597.55    161\n",
      "7432.72     159\n",
      "8742.98     143\n",
      "2649.39     126\n",
      "7683.23     125\n",
      "8852.07     108\n",
      "11855.63    105\n",
      "4327.73     100\n",
      "11960.68     99\n",
      "12026.60     88\n",
      "11631.53     82\n",
      "11947.21     81\n",
      "7007.89      80\n",
      "9037.63      79\n",
      "13246.94     74\n",
      "6086.07      72\n",
      "Name: EMI_Loan_Submitted, dtype: int64\n",
      "None\n",
      "\n",
      "EMI_Loan_Submitted_test:-----\n",
      "EMI_Loan_Submitted:------------\n",
      "\tunique values:2548             \n",
      "\tno of NAN:17760             \n",
      "\tmax:144748.28\n",
      "\tmin:1176.41             \n",
      "\tstd:7554.06             \n",
      "\tmean:3536.594\n",
      "\t% NAN:68.03%\n",
      "None\n",
      "EMI_Loan_Submitted:-----------\n",
      "len:26106\n",
      "most frequent:\n",
      "3716.36     85\n",
      "7948.17     79\n",
      "8742.98     75\n",
      "5298.78     62\n",
      "5089.58     61\n",
      "7683.23     58\n",
      "7432.72     56\n",
      "10597.55    53\n",
      "2649.39     51\n",
      "11631.53    50\n",
      "8852.07     47\n",
      "12026.60    45\n",
      "13246.94    40\n",
      "11947.21    37\n",
      "13877.39    37\n",
      "11960.68    37\n",
      "7215.96     37\n",
      "4327.73     35\n",
      "9129.11     35\n",
      "5668.78     35\n",
      "Name: EMI_Loan_Submitted, dtype: int64\n",
      "None\n"
     ]
    }
   ],
   "source": [
    "# statystyki\n",
    "statistics_max(X_train.EMI_Loan_Submitted,X_test.EMI_Loan_Submitted)"
   ]
  },
  {
   "cell_type": "code",
   "execution_count": 297,
   "metadata": {},
   "outputs": [
    {
     "data": {
      "image/png": "[encoded data removed]",
      "text/plain": [
       "<Figure size 864x576 with 1 Axes>"
      ]
     },
     "metadata": {
      "needs_background": "light"
     },
     "output_type": "display_data"
    }
   ],
   "source": [
    "# rozkład przed uzupełnieniem\n",
    "x = X_train.EMI_Loan_Submitted\n",
    "plt.figure(figsize=(12,8))\n",
    "plt.hist(x)\n",
    "plt.xticks(rotation=90)\n",
    "plt.show()"
   ]
  },
  {
   "cell_type": "code",
   "execution_count": 298,
   "metadata": {},
   "outputs": [],
   "source": [
    "# Dane wyglądają jak część procedu. Nan stanowią ok 68% obserwacji w każdym zbirze.\n",
    "X_train = X_train.astype({'EMI_Loan_Submitted':str})\n",
    "X_test = X_test.astype({'EMI_Loan_Submitted':str})\n",
    "\n",
    "# Zamiana na wartości 0 gdy nan oraz 1 gdy inna wartość\n",
    "X_train.EMI_Loan_Submitted = X_train.EMI_Loan_Submitted.apply(lambda x: 0 if np.any(x=='nan') else 1)\n",
    "X_test.EMI_Loan_Submitted = X_test.EMI_Loan_Submitted.apply(lambda x: 0 if np.any(x=='nan') else 1)"
   ]
  },
  {
   "cell_type": "code",
   "execution_count": 299,
   "metadata": {},
   "outputs": [
    {
     "data": {
      "image/png": "[encoded data removed]",
      "text/plain": [
       "<Figure size 864x576 with 1 Axes>"
      ]
     },
     "metadata": {
      "needs_background": "light"
     },
     "output_type": "display_data"
    }
   ],
   "source": [
    "# rozkład po uzupełnieniu\n",
    "x = X_train.EMI_Loan_Submitted\n",
    "plt.figure(figsize=(12,8))\n",
    "plt.hist(x)\n",
    "plt.xticks(rotation=90)\n",
    "plt.show()"
   ]
  },
  {
   "cell_type": "markdown",
   "metadata": {},
   "source": [
    "### Var4"
   ]
  },
  {
   "cell_type": "code",
   "execution_count": 300,
   "metadata": {},
   "outputs": [
    {
     "name": "stdout",
     "output_type": "stream",
     "text": [
      "Var4_train:------\n",
      "Var4:------------\n",
      "\tunique values:8             \n",
      "\tno of NAN:0             \n",
      "\tmax:7\n",
      "\tmin:0             \n",
      "\tstd:1.7             \n",
      "\tmean:2.95\n",
      "\t% NAN: 0%\n",
      "None\n",
      "Var4:-----------\n",
      "len:60914\n",
      "most frequent:\n",
      "3    17698\n",
      "1    16736\n",
      "5    14109\n",
      "4     4663\n",
      "2     4149\n",
      "0     1771\n",
      "7     1636\n",
      "6      152\n",
      "Name: Var4, dtype: int64\n",
      "None\n",
      "\n",
      "Var4_test:-----\n",
      "Var4:------------\n",
      "\tunique values:8             \n",
      "\tno of NAN:0             \n",
      "\tmax:7\n",
      "\tmin:0             \n",
      "\tstd:1.7             \n",
      "\tmean:2.95\n",
      "\t% NAN: 0%\n",
      "None\n",
      "Var4:-----------\n",
      "len:26106\n",
      "most frequent:\n",
      "3    7562\n",
      "1    7170\n",
      "5    6157\n",
      "4    1914\n",
      "2    1782\n",
      "0     775\n",
      "7     666\n",
      "6      80\n",
      "Name: Var4, dtype: int64\n",
      "None\n"
     ]
    }
   ],
   "source": [
    "# statystyki\n",
    "statistics_max(X_train.Var4,X_test.Var4)"
   ]
  },
  {
   "cell_type": "code",
   "execution_count": 301,
   "metadata": {},
   "outputs": [
    {
     "data": {
      "text/plain": [
       "3    25260\n",
       "1    23906\n",
       "5    20266\n",
       "4     6577\n",
       "2     5931\n",
       "0     2546\n",
       "7     2302\n",
       "6      232\n",
       "Name: Var4, dtype: int64"
      ]
     },
     "execution_count": 301,
     "metadata": {},
     "output_type": "execute_result"
    }
   ],
   "source": [
    "data.Var4.value_counts()"
   ]
  },
  {
   "cell_type": "code",
   "execution_count": 302,
   "metadata": {},
   "outputs": [
    {
     "data": {
      "image/png": "[encoded data removed]",
      "text/plain": [
       "<Figure size 864x576 with 1 Axes>"
      ]
     },
     "metadata": {
      "needs_background": "light"
     },
     "output_type": "display_data"
    }
   ],
   "source": [
    "# rozkład przed uzupełnieniem\n",
    "x = X_train.Var4\n",
    "plt.figure(figsize=(12,8))\n",
    "plt.hist(x)\n",
    "plt.xticks(rotation=90)\n",
    "plt.show()"
   ]
  },
  {
   "cell_type": "code",
   "execution_count": 303,
   "metadata": {},
   "outputs": [],
   "source": [
    "# przypiszę tylko najżadziej występującą wartość do najczęstszej\n",
    "\n",
    "X_train.Var4.replace({6:3},inplace=True)\n",
    "X_test.Var4.replace({6:3},inplace=True)"
   ]
  },
  {
   "cell_type": "code",
   "execution_count": 304,
   "metadata": {},
   "outputs": [
    {
     "data": {
      "image/png": "[encoded data removed]",
      "text/plain": [
       "<Figure size 864x576 with 1 Axes>"
      ]
     },
     "metadata": {
      "needs_background": "light"
     },
     "output_type": "display_data"
    }
   ],
   "source": [
    "# rozkład po uzupełnieniu\n",
    "x = X_train.Var4\n",
    "plt.figure(figsize=(12,8))\n",
    "plt.hist(x)\n",
    "plt.xticks(rotation=90)\n",
    "plt.show()"
   ]
  },
  {
   "cell_type": "markdown",
   "metadata": {},
   "source": [
    "## Przygotowanie danych\n",
    "### Kolumny kategoryczne"
   ]
  },
  {
   "cell_type": "markdown",
   "metadata": {},
   "source": [
    "### DOB"
   ]
  },
  {
   "cell_type": "code",
   "execution_count": 305,
   "metadata": {},
   "outputs": [
    {
     "name": "stdout",
     "output_type": "stream",
     "text": [
      "DOB_train:------\n",
      "DOB:------------\n",
      "\tunique values:10443             \n",
      "\tno of NAN:0             \n",
      "\tmax:31-Oct-95             \n",
      "\tmin:01-Apr-60\n",
      "\t% NAN: 0%\n",
      "None\n",
      "DOB:-----------\n",
      "len:60914\n",
      "most frequent:\n",
      "11-Nov-80    201\n",
      "02-Jan-70    150\n",
      "01-Jan-70     99\n",
      "01-Jan-90     77\n",
      "01-Jan-80     76\n",
      "01-Jan-86     73\n",
      "01-Jan-85     72\n",
      "01-Jan-89     71\n",
      "01-Jan-88     63\n",
      "01-Jan-87     63\n",
      "01-Jun-85     56\n",
      "01-Jan-91     52\n",
      "01-Jun-86     52\n",
      "11-Nov-88     51\n",
      "01-Jan-84     47\n",
      "10-Jun-86     45\n",
      "01-Jul-86     44\n",
      "01-Jun-88     43\n",
      "01-Jun-84     42\n",
      "01-Jul-89     42\n",
      "Name: DOB, dtype: int64\n",
      "None\n",
      "\n",
      "DOB_test:-----\n",
      "DOB:------------\n",
      "\tunique values:8056             \n",
      "\tno of NAN:0             \n",
      "\tmax:31-Oct-97             \n",
      "\tmin:01-Apr-57\n",
      "\t% NAN: 0%\n",
      "None\n",
      "DOB:-----------\n",
      "len:26106\n",
      "most frequent:\n",
      "11-Nov-80    105\n",
      "02-Jan-70     76\n",
      "01-Jan-90     54\n",
      "01-Jan-70     49\n",
      "01-Jan-80     35\n",
      "01-Jan-88     29\n",
      "01-Jan-86     26\n",
      "01-Jan-89     26\n",
      "01-Jun-86     24\n",
      "05-Jun-89     24\n",
      "01-Jan-91     23\n",
      "01-Jan-85     23\n",
      "01-Jun-85     22\n",
      "01-Jun-90     20\n",
      "12-May-87     20\n",
      "01-Jan-83     20\n",
      "11-Nov-88     20\n",
      "01-Jul-89     19\n",
      "01-Jun-82     19\n",
      "01-Jul-86     19\n",
      "Name: DOB, dtype: int64\n",
      "None\n"
     ]
    }
   ],
   "source": [
    "# statystyki dla DOB. Czy są NAN\n",
    "statistics_max(X_train.DOB,X_test.DOB)"
   ]
  },
  {
   "cell_type": "code",
   "execution_count": 306,
   "metadata": {},
   "outputs": [],
   "source": [
    "# zmiana daty urodzenia na wiek\n",
    "X_train['DOB'] = X_train.DOB.apply(lambda x: 2019 - int('19'+x[7:]))\n",
    "X_test['DOB'] = X_test.DOB.apply(lambda x: 2019 - int('19'+x[7:]))\n",
    "\n",
    "#zmiana nazwy kolumny DOB\n",
    "X_train.rename(columns={'DOB':'Age'}, inplace=True)\n",
    "X_test.rename(columns={'DOB':'Age'}, inplace=True)"
   ]
  },
  {
   "cell_type": "code",
   "execution_count": 307,
   "metadata": {},
   "outputs": [
    {
     "data": {
      "image/png": "[encoded data removed]",
      "text/plain": [
       "<Figure size 1440x576 with 1 Axes>"
      ]
     },
     "metadata": {
      "needs_background": "light"
     },
     "output_type": "display_data"
    }
   ],
   "source": [
    "# rozkład wartości Age \n",
    "x = X_train.Age\n",
    "plt.figure(figsize=(20,8))\n",
    "#plt.hist(np.log(x))\n",
    "plt.hist(x)\n",
    "#plt.hist(bb)\n",
    "plt.xticks(rotation=90)\n",
    "plt.show()"
   ]
  },
  {
   "cell_type": "code",
   "execution_count": 308,
   "metadata": {
    "scrolled": false
   },
   "outputs": [
    {
     "name": "stdout",
     "output_type": "stream",
     "text": [
      "Age_train:------\n",
      "Age:------------\n",
      "\tunique values:56             \n",
      "\tno of NAN:0             \n",
      "\tmax:104\n",
      "\tmin:22             \n",
      "\tstd:7.15             \n",
      "\tmean:34.914\n",
      "\t% NAN: 0%\n",
      "None\n",
      "Age:-----------\n",
      "len:60914\n",
      "most frequent:\n",
      "31    4955\n",
      "32    4764\n",
      "30    4645\n",
      "33    4539\n",
      "29    4335\n",
      "34    4224\n",
      "35    3575\n",
      "36    3145\n",
      "28    3120\n",
      "37    2752\n",
      "27    2350\n",
      "39    2337\n",
      "38    2178\n",
      "40    1491\n",
      "26    1384\n",
      "41    1270\n",
      "42     991\n",
      "43     889\n",
      "44     806\n",
      "25     693\n",
      "Name: Age, dtype: int64\n",
      "None\n",
      "\n",
      "Age_test:-----\n",
      "Age:------------\n",
      "\tunique values:56             \n",
      "\tno of NAN:0             \n",
      "\tmax:104\n",
      "\tmin:22             \n",
      "\tstd:7.14             \n",
      "\tmean:34.882\n",
      "\t% NAN: 0%\n",
      "None\n",
      "Age:-----------\n",
      "len:26106\n",
      "most frequent:\n",
      "31    2179\n",
      "32    1990\n",
      "30    1983\n",
      "33    1912\n",
      "29    1889\n",
      "34    1727\n",
      "35    1539\n",
      "36    1400\n",
      "28    1397\n",
      "37    1190\n",
      "27    1060\n",
      "39    1013\n",
      "38     963\n",
      "40     646\n",
      "26     562\n",
      "41     541\n",
      "42     450\n",
      "43     364\n",
      "44     349\n",
      "49     300\n",
      "Name: Age, dtype: int64\n",
      "None\n"
     ]
    }
   ],
   "source": [
    "# Statystyki dla Age\n",
    "statistics_max(X_train.Age,X_test.Age)"
   ]
  },
  {
   "cell_type": "code",
   "execution_count": 309,
   "metadata": {},
   "outputs": [
    {
     "data": {
      "image/png": "[encoded data removed]",
      "text/plain": [
       "<Figure size 1440x576 with 1 Axes>"
      ]
     },
     "metadata": {
      "needs_background": "light"
     },
     "output_type": "display_data"
    }
   ],
   "source": [
    "# rozkład wartości Age Income po  przekształceniu\n",
    "# Jest teochę lepiej\n",
    "x = np.log(X_train.Age)\n",
    "plt.figure(figsize=(20,8))\n",
    "plt.hist(x)\n",
    "plt.xticks(rotation=90)\n",
    "plt.show()"
   ]
  },
  {
   "cell_type": "code",
   "execution_count": 310,
   "metadata": {},
   "outputs": [],
   "source": [
    "# Ponownie rozkład jest  niesymetryczny wieć wyciągne logarytm\n",
    "X_train.Age = X_train.Age.apply(lambda x: x if np.any(x==0) else np.log(x))\n",
    "X_test.Age = X_test.Age.apply(lambda x: x if np.any(x==0) else np.log(x))"
   ]
  },
  {
   "cell_type": "markdown",
   "metadata": {},
   "source": [
    "### City"
   ]
  },
  {
   "cell_type": "code",
   "execution_count": 311,
   "metadata": {},
   "outputs": [],
   "source": [
    "X_train = X_train.astype({\"City\":str})\n",
    "X_test = X_test.astype({\"City\":str})\n",
    "\n",
    "miasta = pd.DataFrame(X_train['City'].value_counts())\n",
    "miasta_list_tr = (miasta[(miasta['City'] < 100)].index)\n",
    "\n",
    "X_train.City = X_train.City.apply(lambda x: x if x not in miasta_list_tr else 'Others')\n",
    "\n",
    "miasta = pd.DataFrame(X_test['City'].value_counts())\n",
    "miasta_list_te = (miasta[(miasta['City'] < 100)].index)\n",
    "\n",
    "miasta_rare = []\n",
    "for cit in miasta_list_te:\n",
    "    if cit not in miasta_list_tr:\n",
    "        miasta_rare.append(cit)\n",
    "\n",
    "temp = X_test.City.apply(lambda x: x if x not in miasta_list_te else 'Others')\n",
    "\n",
    "X_test.City = temp.apply(lambda x: x if x not in miasta_rare else 'Others')\n",
    "\n",
    "X_train.City.replace({'nan':'Others'},inplace=True)\n",
    "X_test.City.replace({'nan':'Others'},inplace=True)"
   ]
  },
  {
   "cell_type": "code",
   "execution_count": 312,
   "metadata": {},
   "outputs": [],
   "source": [
    "# Pogrupowanie City na zasadzie oceny eksperckiej\n",
    "onehot_encoder = OneHotEncoder(handle_unknown=\"ignore\")\n",
    "level_grouper = DecisionTreeClassifier(max_leaf_nodes=3)\n",
    "\n",
    "tr_onehot = onehot_encoder.fit_transform(X_train[[\"City\"]])\n",
    "level_grouper.fit(tr_onehot, X_train.Monthly_Income)\n",
    "\n",
    "X_train[\"City\"] = level_grouper.apply(tr_onehot)   \n",
    "X_test[\"City\"] = level_grouper.apply(onehot_encoder.transform(X_test[[\"City\"]]))"
   ]
  },
  {
   "cell_type": "code",
   "execution_count": 313,
   "metadata": {},
   "outputs": [
    {
     "data": {
      "image/png": "[encoded data removed]",
      "text/plain": [
       "<Figure size 1440x576 with 1 Axes>"
      ]
     },
     "metadata": {
      "needs_background": "light"
     },
     "output_type": "display_data"
    }
   ],
   "source": [
    "# rozkład wartości po pogrupowaniu\n",
    "x = X_train.City\n",
    "plt.figure(figsize=(20,8))\n",
    "plt.hist(x)\n",
    "plt.xticks(rotation=90)\n",
    "plt.show()"
   ]
  },
  {
   "cell_type": "markdown",
   "metadata": {},
   "source": [
    "### Employer_name"
   ]
  },
  {
   "cell_type": "code",
   "execution_count": 314,
   "metadata": {},
   "outputs": [
    {
     "name": "stdout",
     "output_type": "stream",
     "text": [
      "Employer_Name_train:------\n",
      "Employer_Name:------------\n",
      "\tunique values:33021             \n",
      "\tno of NAN:0             \n",
      "\tmax:ÂKESHAVCONSULTING             \n",
      "\tmin:    \n",
      "\t% NAN: 0%\n",
      "None\n",
      "Employer_Name:-----------\n",
      "len:60914\n",
      "most frequent:\n",
      "0                                               3422\n",
      "TATA CONSULTANCY SERVICES LTD (TCS)              389\n",
      "COGNIZANT TECHNOLOGY SOLUTIONS INDIA PVT LTD     260\n",
      "ACCENTURE SERVICES PVT LTD                       227\n",
      "GOOGLE                                           209\n",
      "HCL TECHNOLOGIES LTD                             177\n",
      "ICICI BANK LTD                                   175\n",
      "INDIAN AIR FORCE                                 131\n",
      "INFOSYS TECHNOLOGIES                             129\n",
      "IBM CORPORATION                                  128\n",
      "INDIAN ARMY                                      128\n",
      "GENPACT                                          122\n",
      "TYPE SLOWLY FOR AUTO FILL                        118\n",
      "WIPRO TECHNOLOGIES                               115\n",
      "HDFC BANK LTD                                    112\n",
      "IKYA HUMAN CAPITAL SOLUTIONS LTD                 105\n",
      "STATE GOVERNMENT                                  99\n",
      "ARMY                                              96\n",
      "INDIAN RAILWAY                                    92\n",
      "CONVERGYS INDIA SERVICES PVT LTD                  87\n",
      "Name: Employer_Name, dtype: int64\n",
      "None\n",
      "\n",
      "Employer_Name_test:-----\n",
      "Employer_Name:------------\n",
      "\tunique values:16539             \n",
      "\tno of NAN:0             \n",
      "\tmax:other             \n",
      "\tmin: \n",
      "\t% NAN: 0%\n",
      "None\n",
      "Employer_Name:-----------\n",
      "len:26106\n",
      "most frequent:\n",
      "0                                               1492\n",
      "TATA CONSULTANCY SERVICES LTD (TCS)              161\n",
      "COGNIZANT TECHNOLOGY SOLUTIONS INDIA PVT LTD     144\n",
      "ACCENTURE SERVICES PVT LTD                        97\n",
      "GOOGLE                                            92\n",
      "HCL TECHNOLOGIES LTD                              73\n",
      "ICICI BANK LTD                                    64\n",
      "INDIAN AIR FORCE                                  60\n",
      "GENPACT                                           57\n",
      "INFOSYS TECHNOLOGIES                              52\n",
      "IBM CORPORATION                                   45\n",
      "WIPRO BPO                                         44\n",
      "TYPE SLOWLY FOR AUTO FILL                         44\n",
      "INDIAN NAVY                                       43\n",
      "INDIAN ARMY                                       43\n",
      "WIPRO TECHNOLOGIES                                40\n",
      "INDIAN RAILWAY                                    38\n",
      "SERCO BPO PVT LTD                                 37\n",
      "IKYA HUMAN CAPITAL SOLUTIONS LTD                  37\n",
      "OTHERS                                            36\n",
      "Name: Employer_Name, dtype: int64\n",
      "None\n"
     ]
    }
   ],
   "source": [
    "# zamieniam wszystkie wartości na str ponieważ była to Seria o dtype object i sprawdzam statystyki\n",
    "X_train = X_train.astype({'Employer_Name':str})\n",
    "X_test = X_test.astype({'Employer_Name':str})\n",
    "statistics_max(X_train.Employer_Name,X_test.Employer_Name)"
   ]
  },
  {
   "cell_type": "code",
   "execution_count": 315,
   "metadata": {},
   "outputs": [],
   "source": [
    "# W związku z tym pogrupowanie będze na zasadzie opinii eksperckiej\n",
    "# Pogrupowanie Employer_Name\n",
    "\n",
    "onehot_encoder = OneHotEncoder(handle_unknown=\"ignore\")\n",
    "level_grouper = DecisionTreeClassifier(max_leaf_nodes=3)\n",
    "\n",
    "tr_onehot = onehot_encoder.fit_transform(X_train[[\"Employer_Name\"]])\n",
    "level_grouper.fit(tr_onehot, X_train.Monthly_Income)\n",
    "\n",
    "X_train[\"Employer_Name\"] = level_grouper.apply(tr_onehot)   \n",
    "X_test[\"Employer_Name\"] = level_grouper.apply(onehot_encoder.transform(X_test[[\"Employer_Name\"]]))"
   ]
  },
  {
   "cell_type": "code",
   "execution_count": 316,
   "metadata": {},
   "outputs": [
    {
     "data": {
      "image/png": "[encoded data removed]",
      "text/plain": [
       "<Figure size 1440x576 with 1 Axes>"
      ]
     },
     "metadata": {
      "needs_background": "light"
     },
     "output_type": "display_data"
    }
   ],
   "source": [
    "# rozkład wartości po pogrupowaniu\n",
    "x = X_train.Employer_Name\n",
    "plt.figure(figsize=(20,8))\n",
    "plt.hist(x)\n",
    "plt.xticks(rotation=90)\n",
    "plt.show()"
   ]
  },
  {
   "cell_type": "markdown",
   "metadata": {},
   "source": [
    "### Salary_Account"
   ]
  },
  {
   "cell_type": "code",
   "execution_count": 317,
   "metadata": {},
   "outputs": [
    {
     "name": "stdout",
     "output_type": "stream",
     "text": [
      "Salary_Account_train:------\n",
      "Salary_Account:------------\n",
      "\tunique values:57             \n",
      "\tno of NAN:0             \n",
      "\tmax:nan             \n",
      "\tmin:Abhyuday Co-op Bank Ltd\n",
      "\t% NAN: 0%\n",
      "None\n",
      "Salary_Account:-----------\n",
      "len:60914\n",
      "most frequent:\n",
      "HDFC Bank                  12388\n",
      "ICICI Bank                  9603\n",
      "State Bank of India         8256\n",
      "nan                         8238\n",
      "Axis Bank                   6132\n",
      "Citibank                    1635\n",
      "Kotak Bank                  1481\n",
      "IDBI Bank                   1060\n",
      "Punjab National Bank         847\n",
      "Bank of India                816\n",
      "Bank of Baroda               793\n",
      "Canara Bank                  690\n",
      "Standard Chartered Bank      690\n",
      "Union Bank of India          668\n",
      "Yes Bank                     535\n",
      "ING Vysya                    476\n",
      "Corporation bank             444\n",
      "Indian Overseas Bank         424\n",
      "State Bank of Hyderabad      414\n",
      "Indian Bank                  384\n",
      "Name: Salary_Account, dtype: int64\n",
      "None\n",
      "\n",
      "Salary_Account_test:-----\n",
      "Salary_Account:------------\n",
      "\tunique values:57             \n",
      "\tno of NAN:0             \n",
      "\tmax:nan             \n",
      "\tmin:Abhyuday Co-op Bank Ltd\n",
      "\t% NAN: 0%\n",
      "None\n",
      "Salary_Account:-----------\n",
      "len:26106\n",
      "most frequent:\n",
      "HDFC Bank                    5307\n",
      "ICICI Bank                   4033\n",
      "State Bank of India          3587\n",
      "nan                          3526\n",
      "Axis Bank                    2651\n",
      "Citibank                      741\n",
      "Kotak Bank                    586\n",
      "IDBI Bank                     490\n",
      "Punjab National Bank          354\n",
      "Bank of India                 354\n",
      "Bank of Baroda                333\n",
      "Standard Chartered Bank       305\n",
      "Canara Bank                   300\n",
      "Union Bank of India           283\n",
      "Yes Bank                      244\n",
      "Corporation bank              205\n",
      "ING Vysya                     202\n",
      "Indian Overseas Bank          188\n",
      "State Bank of Hyderabad       183\n",
      "Oriental Bank of Commerce     173\n",
      "Name: Salary_Account, dtype: int64\n",
      "None\n"
     ]
    }
   ],
   "source": [
    "# Zamiana na str ponieważ Seria z dtype object\n",
    "X_train = X_train.astype({'Salary_Account':str})\n",
    "X_test = X_test.astype({'Salary_Account':str})\n",
    "statistics_max(X_train.Salary_Account,X_test.Salary_Account)"
   ]
  },
  {
   "cell_type": "code",
   "execution_count": 237,
   "metadata": {},
   "outputs": [],
   "source": [
    "#  postanowiłem zamienić na 0 przy nan i 1 przy jakiej kolwiek wartości dla obserwacji.\n",
    "#X_train.Salary_Account = X_train.Salary_Account.apply(lambda x: 0 if np.any(x=='nan') else 1)\n",
    "#X_test.Salary_Account = X_test.Salary_Account.apply(lambda x: 0 if np.any(x=='nan') else 1)"
   ]
  },
  {
   "cell_type": "code",
   "execution_count": 318,
   "metadata": {},
   "outputs": [],
   "source": [
    "X_train = X_train.astype({\"Salary_Account\":str})\n",
    "X_test = X_test.astype({\"Salary_Account\":str})\n",
    "\n",
    "sal = pd.DataFrame(X_train['Salary_Account'].value_counts())\n",
    "sal_list_tr = (sal[(sal['Salary_Account'] < 50)].index)\n",
    "\n",
    "X_train.Salary_Account = X_train.Salary_Account.apply(lambda x: x if x not in sal_list_tr else 'Others')\n",
    "\n",
    "sal = pd.DataFrame(X_test['Salary_Account'].value_counts())\n",
    "sal_list_te = (sal[(sal['Salary_Account'] < 50)].index)\n",
    "\n",
    "sal_rare = []\n",
    "for cit in sal_list_te:\n",
    "    if cit not in sal_list_tr:\n",
    "        sal_rare.append(cit)\n",
    "\n",
    "temp = X_test.Salary_Account.apply(lambda x: x if x not in sal_list_te else 'Others')\n",
    "\n",
    "X_test.Salary_Account = temp.apply(lambda x: x if x not in sal_rare else 'Others')\n",
    "\n",
    "X_train.Salary_Account.replace({'nan':'Others'},inplace=True)\n",
    "X_test.Salary_Account.replace({'nan':'Others'},inplace=True)"
   ]
  },
  {
   "cell_type": "code",
   "execution_count": 319,
   "metadata": {},
   "outputs": [],
   "source": [
    "onehot_encoder = OneHotEncoder(handle_unknown=\"ignore\")\n",
    "level_grouper = DecisionTreeClassifier(max_leaf_nodes=5)\n",
    "\n",
    "tr_onehot = onehot_encoder.fit_transform(X_train[[\"Salary_Account\"]])\n",
    "level_grouper.fit(tr_onehot, X_train.Monthly_Income)\n",
    "\n",
    "X_train[\"Salary_Account\"] = level_grouper.apply(tr_onehot)   \n",
    "X_test[\"Salary_Account\"] = level_grouper.apply(onehot_encoder.transform(X_test[[\"Salary_Account\"]]))"
   ]
  },
  {
   "cell_type": "code",
   "execution_count": 320,
   "metadata": {},
   "outputs": [
    {
     "data": {
      "image/png": "[encoded data removed]",
      "text/plain": [
       "<Figure size 1440x576 with 1 Axes>"
      ]
     },
     "metadata": {
      "needs_background": "light"
     },
     "output_type": "display_data"
    }
   ],
   "source": [
    "# rozkład wartości po pogrupowaniu\n",
    "x = X_train.Salary_Account\n",
    "plt.figure(figsize=(20,8))\n",
    "plt.hist(x)\n",
    "plt.xticks(rotation=90)\n",
    "plt.show()"
   ]
  },
  {
   "cell_type": "markdown",
   "metadata": {},
   "source": [
    "### Var1"
   ]
  },
  {
   "cell_type": "code",
   "execution_count": 321,
   "metadata": {},
   "outputs": [
    {
     "name": "stdout",
     "output_type": "stream",
     "text": [
      "Var1_train:------\n",
      "Var1:------------\n",
      "\tunique values:19             \n",
      "\tno of NAN:0             \n",
      "\tmax:HVYS             \n",
      "\tmin:HAVC\n",
      "\t% NAN: 0%\n",
      "None\n",
      "Var1:-----------\n",
      "len:60914\n",
      "most frequent:\n",
      "HBXX    41534\n",
      "HBXC     6299\n",
      "HBXB     3131\n",
      "HAXA     1985\n",
      "HBXA     1519\n",
      "HAXB     1401\n",
      "HBXD     1377\n",
      "HAXC     1078\n",
      "HBXH      676\n",
      "HCXF      514\n",
      "HAYT      338\n",
      "HAVC      278\n",
      "HAXM      179\n",
      "HCXD      169\n",
      "HCYS      165\n",
      "HVYS      130\n",
      "HAZD       75\n",
      "HCXG       54\n",
      "HAXF       12\n",
      "Name: Var1, dtype: int64\n",
      "None\n",
      "\n",
      "Var1_test:-----\n",
      "Var1:------------\n",
      "\tunique values:19             \n",
      "\tno of NAN:0             \n",
      "\tmax:HVYS             \n",
      "\tmin:HAVC\n",
      "\t% NAN: 0%\n",
      "None\n",
      "Var1:-----------\n",
      "len:26106\n",
      "most frequent:\n",
      "HBXX    17760\n",
      "HBXC     2711\n",
      "HBXB     1348\n",
      "HAXA      924\n",
      "HAXB      610\n",
      "HBXA      604\n",
      "HBXD      587\n",
      "HAXC      458\n",
      "HBXH      294\n",
      "HCXF      208\n",
      "HAYT      170\n",
      "HAVC      106\n",
      "HAXM       89\n",
      "HCXD       68\n",
      "HVYS       56\n",
      "HCYS       52\n",
      "HAZD       34\n",
      "HCXG       24\n",
      "HAXF        3\n",
      "Name: Var1, dtype: int64\n",
      "None\n"
     ]
    }
   ],
   "source": [
    "# statystyki dla Var1\n",
    "statistics_max(X_train.Var1,X_test.Var1)"
   ]
  },
  {
   "cell_type": "code",
   "execution_count": 322,
   "metadata": {},
   "outputs": [],
   "source": [
    "# pogrupowanie na 3 kategorie\n",
    "onehot_encoder = OneHotEncoder(handle_unknown=\"ignore\")\n",
    "level_grouper = DecisionTreeClassifier(max_leaf_nodes=3)\n",
    "\n",
    "tr_onehot = onehot_encoder.fit_transform(X_train[[\"Var1\"]])\n",
    "level_grouper.fit(tr_onehot, X_train.Monthly_Income)\n",
    "\n",
    "X_train[\"Var1\"] = level_grouper.apply(tr_onehot)   \n",
    "X_test[\"Var1\"] = level_grouper.apply(onehot_encoder.transform(X_test[[\"Var1\"]]))"
   ]
  },
  {
   "cell_type": "code",
   "execution_count": 323,
   "metadata": {},
   "outputs": [
    {
     "data": {
      "image/png": "[encoded data removed]",
      "text/plain": [
       "<Figure size 864x576 with 1 Axes>"
      ]
     },
     "metadata": {
      "needs_background": "light"
     },
     "output_type": "display_data"
    }
   ],
   "source": [
    "# po pogrupowaniu\n",
    "# jedna waertość jest bardzo liczna\n",
    "x = X_train.Var1\n",
    "plt.figure(figsize=(12,8))\n",
    "plt.hist(x)\n",
    "plt.xticks(rotation=90)\n",
    "plt.show()"
   ]
  },
  {
   "cell_type": "markdown",
   "metadata": {},
   "source": [
    "### Var2"
   ]
  },
  {
   "cell_type": "code",
   "execution_count": 324,
   "metadata": {},
   "outputs": [
    {
     "name": "stdout",
     "output_type": "stream",
     "text": [
      "Var2_train:------\n",
      "Var2:------------\n",
      "\tunique values:7             \n",
      "\tno of NAN:0             \n",
      "\tmax:G             \n",
      "\tmin:A\n",
      "\t% NAN: 0%\n",
      "None\n",
      "Var2:-----------\n",
      "len:60914\n",
      "most frequent:\n",
      "B    26240\n",
      "G    23037\n",
      "C     9925\n",
      "E      908\n",
      "D      435\n",
      "F      364\n",
      "A        5\n",
      "Name: Var2, dtype: int64\n",
      "None\n",
      "\n",
      "Var2_test:-----\n",
      "Var2:------------\n",
      "\tunique values:6             \n",
      "\tno of NAN:0             \n",
      "\tmax:G             \n",
      "\tmin:B\n",
      "\t% NAN: 0%\n",
      "None\n",
      "Var2:-----------\n",
      "len:26106\n",
      "most frequent:\n",
      "B    11040\n",
      "G     9995\n",
      "C     4285\n",
      "E      407\n",
      "D      199\n",
      "F      180\n",
      "Name: Var2, dtype: int64\n",
      "None\n"
     ]
    }
   ],
   "source": [
    "# statystyki dla Var2\n",
    "statistics_max(X_train.Var2,X_test.Var2)"
   ]
  },
  {
   "cell_type": "code",
   "execution_count": 325,
   "metadata": {},
   "outputs": [],
   "source": [
    "# przypisanie najmniej licznej kategorii do najbardziej licznej\n",
    "X_train.Var2.replace({'A':'B'},inplace=True)\n",
    "X_test.Var2.replace({'A':'B'},inplace=True)"
   ]
  },
  {
   "cell_type": "code",
   "execution_count": 326,
   "metadata": {},
   "outputs": [],
   "source": [
    "#Zdecydowałem się pogrupować na 3 grupy\n",
    "onehot_encoder = OneHotEncoder(handle_unknown=\"ignore\")\n",
    "level_grouper = DecisionTreeClassifier(max_leaf_nodes=3)\n",
    "\n",
    "tr_onehot = onehot_encoder.fit_transform(X_train[[\"Var2\"]])\n",
    "level_grouper.fit(tr_onehot, X_train.Monthly_Income)\n",
    "\n",
    "X_train[\"Var2\"] = level_grouper.apply(tr_onehot)\n",
    "X_test[\"Var2\"] = level_grouper.apply(onehot_encoder.transform(X_test[[\"Var2\"]]))"
   ]
  },
  {
   "cell_type": "code",
   "execution_count": 327,
   "metadata": {},
   "outputs": [
    {
     "data": {
      "image/png": "[encoded data removed]",
      "text/plain": [
       "<Figure size 864x576 with 1 Axes>"
      ]
     },
     "metadata": {
      "needs_background": "light"
     },
     "output_type": "display_data"
    }
   ],
   "source": [
    "# po pogrupowaniu\n",
    "x = X_train.Var2\n",
    "plt.figure(figsize=(12,8))\n",
    "plt.hist(x)\n",
    "plt.xticks(rotation=90)\n",
    "plt.show()"
   ]
  },
  {
   "cell_type": "markdown",
   "metadata": {},
   "source": [
    "### Source"
   ]
  },
  {
   "cell_type": "code",
   "execution_count": 328,
   "metadata": {},
   "outputs": [
    {
     "name": "stdout",
     "output_type": "stream",
     "text": [
      "Source_train:------\n",
      "Source:------------\n",
      "\tunique values:28             \n",
      "\tno of NAN:0             \n",
      "\tmax:S162             \n",
      "\tmin:S122\n",
      "\t% NAN: 0%\n",
      "None\n",
      "Source:-----------\n",
      "len:60914\n",
      "most frequent:\n",
      "S122    26908\n",
      "S133    20994\n",
      "S159     3923\n",
      "S143     3040\n",
      "S127     1378\n",
      "S137     1193\n",
      "S134      907\n",
      "S161      546\n",
      "S151      506\n",
      "S157      462\n",
      "S153      334\n",
      "S156      212\n",
      "S144      201\n",
      "S158      151\n",
      "S123       44\n",
      "S141       43\n",
      "S162       26\n",
      "S124       16\n",
      "S150        8\n",
      "S160        7\n",
      "Name: Source, dtype: int64\n",
      "None\n",
      "\n",
      "Source_test:-----\n",
      "Source:------------\n",
      "\tunique values:25             \n",
      "\tno of NAN:0             \n",
      "\tmax:S162             \n",
      "\tmin:S122\n",
      "\t% NAN: 0%\n",
      "None\n",
      "Source:-----------\n",
      "len:26106\n",
      "most frequent:\n",
      "S122    11659\n",
      "S133     8891\n",
      "S159     1676\n",
      "S143     1292\n",
      "S127      553\n",
      "S137      531\n",
      "S134      394\n",
      "S161      223\n",
      "S151      214\n",
      "S157      188\n",
      "S153      160\n",
      "S144       98\n",
      "S156       96\n",
      "S158       57\n",
      "S123       29\n",
      "S141       14\n",
      "S162       10\n",
      "S124        8\n",
      "S160        4\n",
      "S155        2\n",
      "Name: Source, dtype: int64\n",
      "None\n"
     ]
    }
   ],
   "source": [
    "# Statystyki\n",
    "statistics_max(X_train.Source,X_test.Source)"
   ]
  },
  {
   "cell_type": "code",
   "execution_count": 329,
   "metadata": {},
   "outputs": [],
   "source": [
    "#Zdecydowałem się pogrupować na 3 grupy\n",
    "onehot_encoder = OneHotEncoder(handle_unknown=\"ignore\")\n",
    "level_grouper = DecisionTreeClassifier(max_leaf_nodes=3)\n",
    "\n",
    "tr_onehot = onehot_encoder.fit_transform(X_train[[\"Source\"]])\n",
    "level_grouper.fit(tr_onehot, X_train.Monthly_Income)\n",
    "\n",
    "X_train[\"Source\"] = level_grouper.apply(tr_onehot)\n",
    "X_test[\"Source\"] = level_grouper.apply(onehot_encoder.transform(X_test[[\"Source\"]]))"
   ]
  },
  {
   "cell_type": "code",
   "execution_count": 330,
   "metadata": {},
   "outputs": [
    {
     "data": {
      "image/png": "[encoded data removed]",
      "text/plain": [
       "<Figure size 864x576 with 1 Axes>"
      ]
     },
     "metadata": {
      "needs_background": "light"
     },
     "output_type": "display_data"
    }
   ],
   "source": [
    "# po pogrupowaniu\n",
    "x = X_train.Source\n",
    "plt.figure(figsize=(12,8))\n",
    "plt.hist(x)\n",
    "plt.xticks(rotation=90)\n",
    "plt.show()"
   ]
  },
  {
   "cell_type": "markdown",
   "metadata": {},
   "source": [
    "### Kolumny numeryczne z 2 wartościami"
   ]
  },
  {
   "cell_type": "code",
   "execution_count": 331,
   "metadata": {},
   "outputs": [
    {
     "name": "stdout",
     "output_type": "stream",
     "text": [
      "X_test:\n",
      "\n",
      "Gender_test---------             \n",
      "\tnumber of NAN:0\n",
      "\t<class 'str'>\n",
      "Mobile_Verified_test---------             \n",
      "\tnumber of NAN:0\n",
      "\t<class 'str'>\n",
      "Interest_Rate_test---------             \n",
      "\tnumber of NAN:0\n",
      "\t<class 'numpy.int64'>\n",
      "Processing_Fee_test---------             \n",
      "\tnumber of NAN:0\n",
      "\t<class 'numpy.int64'>\n",
      "EMI_Loan_Submitted_test---------             \n",
      "\tnumber of NAN:0\n",
      "\t<class 'numpy.int64'>\n",
      "Filled_Form_test---------             \n",
      "\tnumber of NAN:0\n",
      "\t<class 'str'>\n",
      "Device_Type_test---------             \n",
      "\tnumber of NAN:0\n",
      "\t<class 'str'>\n",
      "{None}\n",
      "X_test:\n",
      "\n",
      "Gender_test---------             \n",
      "\tnumber of NAN:0\n",
      "\t<class 'str'>\n",
      "Mobile_Verified_test---------             \n",
      "\tnumber of NAN:0\n",
      "\t<class 'str'>\n",
      "Interest_Rate_test---------             \n",
      "\tnumber of NAN:0\n",
      "\t<class 'numpy.int64'>\n",
      "Processing_Fee_test---------             \n",
      "\tnumber of NAN:0\n",
      "\t<class 'numpy.int64'>\n",
      "EMI_Loan_Submitted_test---------             \n",
      "\tnumber of NAN:0\n",
      "\t<class 'numpy.int64'>\n",
      "Filled_Form_test---------             \n",
      "\tnumber of NAN:0\n",
      "\t<class 'str'>\n",
      "Device_Type_test---------             \n",
      "\tnumber of NAN:0\n",
      "\t<class 'str'>\n",
      "{None}\n"
     ]
    }
   ],
   "source": [
    "# Wyszukanie kolumn z dwoma unikalnymi warościami oraz sprawdzenie czy występują NAN\n",
    "print(f\"X_test:\\n\")\n",
    "print({uniqe_val(X_train)})\n",
    "print(f\"X_test:\\n\")\n",
    "print({uniqe_val(X_test)})"
   ]
  },
  {
   "cell_type": "markdown",
   "metadata": {},
   "source": [
    "### Mobile_Verified\n",
    "### Filled_Form"
   ]
  },
  {
   "cell_type": "code",
   "execution_count": 332,
   "metadata": {},
   "outputs": [],
   "source": [
    "# zmiana powyższych kolumn na wartości liczbowe gdy mamy dwie możliwości. Y to 1 a N to 0\n",
    " \n",
    "X_train.Mobile_Verified = X_train.Mobile_Verified.map({'N':0,'Y':1})\n",
    "X_test.Mobile_Verified = X_test.Mobile_Verified.map({'N':0,'Y':1})\n",
    "\n",
    "X_train.Filled_Form = X_train.Filled_Form.map({'N':0,'Y':1})\n",
    "X_test.Filled_Form = X_test.Filled_Form.map({'N':0,'Y':1})"
   ]
  },
  {
   "cell_type": "markdown",
   "metadata": {},
   "source": [
    "### Gender\n",
    "### Device_Type"
   ]
  },
  {
   "cell_type": "code",
   "execution_count": 333,
   "metadata": {},
   "outputs": [],
   "source": [
    "# użyję label encodera by nadał wartości tym kategoriom\n",
    "le = LabelEncoder()\n",
    "X_train['Gender'] = le.fit_transform(X_train[['Gender']])\n",
    "X_test['Gender'] = le.fit_transform(X_test[['Gender']])"
   ]
  },
  {
   "cell_type": "code",
   "execution_count": 334,
   "metadata": {},
   "outputs": [],
   "source": [
    "le = LabelEncoder()\n",
    "X_train['Device_Type'] = le.fit_transform(X_train[['Device_Type']])\n",
    "X_test['Device_Type'] = le.fit_transform(X_test[['Device_Type']])"
   ]
  },
  {
   "cell_type": "code",
   "execution_count": 335,
   "metadata": {},
   "outputs": [
    {
     "name": "stdout",
     "output_type": "stream",
     "text": [
      "<class 'pandas.core.frame.DataFrame'>\n",
      "RangeIndex: 60914 entries, 0 to 60913\n",
      "Data columns (total 22 columns):\n",
      "Gender                   60914 non-null int64\n",
      "City                     60914 non-null int64\n",
      "Monthly_Income           60914 non-null int64\n",
      "Age                      60914 non-null float64\n",
      "Loan_Amount_Applied      60914 non-null float64\n",
      "Loan_Tenure_Applied      60914 non-null float64\n",
      "Existing_EMI             60914 non-null float64\n",
      "Employer_Name            60914 non-null int64\n",
      "Salary_Account           60914 non-null int64\n",
      "Mobile_Verified          60914 non-null int64\n",
      "Var5                     60914 non-null int64\n",
      "Var1                     60914 non-null int64\n",
      "Loan_Amount_Submitted    60914 non-null float64\n",
      "Loan_Tenure_Submitted    60914 non-null float64\n",
      "Interest_Rate            60914 non-null int64\n",
      "Processing_Fee           60914 non-null int64\n",
      "EMI_Loan_Submitted       60914 non-null int64\n",
      "Filled_Form              60914 non-null int64\n",
      "Device_Type              60914 non-null int64\n",
      "Var2                     60914 non-null int64\n",
      "Source                   60914 non-null int64\n",
      "Var4                     60914 non-null int64\n",
      "dtypes: float64(6), int64(16)\n",
      "memory usage: 10.2 MB\n"
     ]
    }
   ],
   "source": [
    "X_train.info()"
   ]
  },
  {
   "cell_type": "code",
   "execution_count": 336,
   "metadata": {},
   "outputs": [
    {
     "name": "stdout",
     "output_type": "stream",
     "text": [
      "<class 'pandas.core.frame.DataFrame'>\n",
      "RangeIndex: 26106 entries, 0 to 26105\n",
      "Data columns (total 22 columns):\n",
      "Gender                   26106 non-null int64\n",
      "City                     26106 non-null int64\n",
      "Monthly_Income           26106 non-null int64\n",
      "Age                      26106 non-null float64\n",
      "Loan_Amount_Applied      26106 non-null float64\n",
      "Loan_Tenure_Applied      26106 non-null float64\n",
      "Existing_EMI             26106 non-null float64\n",
      "Employer_Name            26106 non-null int64\n",
      "Salary_Account           26106 non-null int64\n",
      "Mobile_Verified          26106 non-null int64\n",
      "Var5                     26106 non-null int64\n",
      "Var1                     26106 non-null int64\n",
      "Loan_Amount_Submitted    26106 non-null float64\n",
      "Loan_Tenure_Submitted    26106 non-null float64\n",
      "Interest_Rate            26106 non-null int64\n",
      "Processing_Fee           26106 non-null int64\n",
      "EMI_Loan_Submitted       26106 non-null int64\n",
      "Filled_Form              26106 non-null int64\n",
      "Device_Type              26106 non-null int64\n",
      "Var2                     26106 non-null int64\n",
      "Source                   26106 non-null int64\n",
      "Var4                     26106 non-null int64\n",
      "dtypes: float64(6), int64(16)\n",
      "memory usage: 4.4 MB\n"
     ]
    }
   ],
   "source": [
    "X_test.info()"
   ]
  },
  {
   "cell_type": "markdown",
   "metadata": {},
   "source": [
    "# Modelowanie"
   ]
  },
  {
   "cell_type": "markdown",
   "metadata": {},
   "source": [
    "## Problem niezblansoeanych klas\n",
    "##### Zbiór jest niezbalansowany. 1 stanowią tylko ok 1.5% zbioru\n",
    "##### by to zrównoważyć dokonam oversamplingu oraz undersamplingu dla porównania."
   ]
  },
  {
   "cell_type": "code",
   "execution_count": 337,
   "metadata": {},
   "outputs": [
    {
     "data": {
      "text/plain": [
       "0    60015\n",
       "1      899\n",
       "Name: Disbursed, dtype: int64"
      ]
     },
     "execution_count": 337,
     "metadata": {},
     "output_type": "execute_result"
    }
   ],
   "source": [
    "#Sprawdzenie czy zbiór y jest zbalansowany\n",
    "y_train.Disbursed.value_counts()"
   ]
  },
  {
   "cell_type": "code",
   "execution_count": 338,
   "metadata": {},
   "outputs": [],
   "source": [
    "# Zbiór jest niezbalansowany. 1 stanowią tylko ok 1.5% zbioru\n",
    "# by to zrównoważyć użyję 2 metod które porównam: oversumpling oraz undersumpling\n",
    "X_train_oversample = pd.concat([\n",
    "    X_train[(y_train['Disbursed'] == 0)],\n",
    "    X_train[(y_train['Disbursed'] == 1 )].sample(20000,replace=True)\n",
    "])\n",
    "\n",
    "y_train_oversample = np.concatenate([\n",
    "    np.repeat(0, np.sum((y_train['Disbursed'] == 0))), np.repeat(1,20000)\n",
    "])\n",
    "\n",
    "\n",
    "# by to zrównoważyć dokonam oversamplingu, inaczej miara accuracy nie miała by sensu.\n",
    "X_train_undersample = pd.concat([\n",
    "            X_train[(y_train['Disbursed'] == 0 )].sample(np.sum((y_train['Disbursed'] == 1 ))),\n",
    "            X_train[(y_train['Disbursed'] == 1 )]])\n",
    "\n",
    "y_train_undersample = np.concatenate([\n",
    "            np.repeat(0, np.sum((y_train['Disbursed'] == 1))), np.repeat(1,np.sum(y_train['Disbursed'] == 1))])"
   ]
  },
  {
   "cell_type": "markdown",
   "metadata": {},
   "source": [
    "# Poszukiwanie najlepszego modelu"
   ]
  },
  {
   "cell_type": "code",
   "execution_count": 339,
   "metadata": {},
   "outputs": [
    {
     "name": "stdout",
     "output_type": "stream",
     "text": [
      "---!!!--- RandomForestClassifier\n",
      "Pipeline(memory=None,\n",
      "     steps=[('model', RandomForestClassifier(bootstrap=True, class_weight=None, criterion='gini',\n",
      "            max_depth=None, max_features='auto', max_leaf_nodes=None,\n",
      "            min_impurity_decrease=0.0, min_impurity_split=None,\n",
      "            min_samples_leaf=1, min_samples_split=2,\n",
      "            min_weight_fraction_leaf=0.0, n_estimators='warn', n_jobs=None,\n",
      "            oob_score=False, random_state=None, verbose=0,\n",
      "            warm_start=False))])\n",
      "---!!!--- BaggingClassifier_regression\n",
      "Pipeline(memory=None,\n",
      "     steps=[('scale', StandardScaler(copy=True, with_mean=True, with_std=True)), ('model', BaggingClassifier(base_estimator=LogisticRegression(C=1.0, class_weight=None, dual=False, fit_intercept=True,\n",
      "          intercept_scaling=1, max_iter=100, multi_class='warn',\n",
      "          n_jobs=None, penalty='l2', ra...imators=10, n_jobs=None, oob_score=False,\n",
      "         random_state=None, verbose=0, warm_start=False))])\n",
      "---!!!--- LogisticRegression\n",
      "Pipeline(memory=None,\n",
      "     steps=[('scale', StandardScaler(copy=True, with_mean=True, with_std=True)), ('model', LogisticRegression(C=1.0, class_weight=None, dual=False, fit_intercept=True,\n",
      "          intercept_scaling=1, max_iter=100, multi_class='warn',\n",
      "          n_jobs=None, penalty='l2', random_state=None, solver='warn',\n",
      "          tol=0.0001, verbose=0, warm_start=False))])\n",
      "---!!!--- DecisionTree\n",
      "Pipeline(memory=None,\n",
      "     steps=[('model', DecisionTreeClassifier(class_weight=None, criterion='gini', max_depth=None,\n",
      "            max_features=None, max_leaf_nodes=None,\n",
      "            min_impurity_decrease=0.0, min_impurity_split=None,\n",
      "            min_samples_leaf=1, min_samples_split=2,\n",
      "            min_weight_fraction_leaf=0.0, presort=False, random_state=None,\n",
      "            splitter='best'))])\n",
      "---!!!--- XGBClassifier\n",
      "Pipeline(memory=None,\n",
      "     steps=[('model', XGBClassifier(base_score=0.5, booster='gbtree', colsample_bylevel=1,\n",
      "       colsample_bytree=1, gamma=0, learning_rate=0.1, max_delta_step=0,\n",
      "       max_depth=3, min_child_weight=1, missing=None, n_estimators=100,\n",
      "       n_jobs=1, nthread=None, objective='binary:logistic', random_state=0,\n",
      "       reg_alpha=0, reg_lambda=1, scale_pos_weight=1, seed=None,\n",
      "       silent=True, subsample=1))])\n",
      "\n",
      "RandomForestClassifier -  oversample\n",
      "-------------------------         \n",
      "Jakosc predykcji:\t\t0.948977         \n",
      "AUC score:\t\t\t0.823169         \n",
      "Df1 score:\t\t\t0.110029         \n",
      "Parametry:\t\t\t{'model__min_samples_leaf': 87, 'model__n_estimators': 367}         \n",
      "RandomForestClassifier -  undersample\n",
      "-------------------------         \n",
      "Jakosc predykcji:\t\t0.576611         \n",
      "AUC score:\t\t\t0.783068         \n",
      "f1 score:\t\t\t0.063613         \n",
      "Parametry:\t\t\t{'model__min_samples_leaf': 87, 'model__n_estimators': 837}\n",
      "\n",
      "BaggingClassifier_regression -  oversample\n",
      "-------------------------         \n",
      "Jakosc predykcji:\t\t0.924730         \n",
      "AUC score:\t\t\t0.783899         \n",
      "Df1 score:\t\t\t0.110029         \n",
      "Parametry:\t\t\t{'model__n_estimators': 10}         \n",
      "BaggingClassifier_regression -  undersample\n",
      "-------------------------         \n",
      "Jakosc predykcji:\t\t0.647399         \n",
      "AUC score:\t\t\t0.782680         \n",
      "f1 score:\t\t\t0.063613         \n",
      "Parametry:\t\t\t{'model__n_estimators': 10}\n",
      "\n",
      "LogisticRegression -  oversample\n",
      "-------------------------         \n",
      "Jakosc predykcji:\t\t0.924538         \n",
      "AUC score:\t\t\t0.783479         \n",
      "Df1 score:\t\t\t0.110029         \n",
      "Parametry:\t\t\t{'model__C': 1, 'model__penalty': 'l1'}         \n",
      "LogisticRegression -  undersample\n",
      "-------------------------         \n",
      "Jakosc predykcji:\t\t0.614342         \n",
      "AUC score:\t\t\t0.779830         \n",
      "f1 score:\t\t\t0.063613         \n",
      "Parametry:\t\t\t{'model__C': 0.1, 'model__penalty': 'l1'}\n",
      "\n",
      "DecisionTree -  oversample\n",
      "-------------------------         \n",
      "Jakosc predykcji:\t\t0.913315         \n",
      "AUC score:\t\t\t0.749841         \n",
      "Df1 score:\t\t\t0.110029         \n",
      "Parametry:\t\t\t{'model__criterion': 'gini', 'model__max_depth': 7}         \n",
      "DecisionTree -  undersample\n",
      "-------------------------         \n",
      "Jakosc predykcji:\t\t0.528844         \n",
      "AUC score:\t\t\t0.764119         \n",
      "f1 score:\t\t\t0.063613         \n",
      "Parametry:\t\t\t{'model__criterion': 'gini', 'model__max_depth': 6}\n",
      "\n",
      "XGBClassifier -  oversample\n",
      "-------------------------         \n",
      "Jakosc predykcji:\t\t0.929978         \n",
      "AUC score:\t\t\t0.806697         \n",
      "Df1 score:\t\t\t0.110029         \n",
      "Parametry:\t\t\t{'model__learning_rate': 0.25, 'model__n_estimators': 376, 'model__reg_alpha': 2.4, 'model__reg_lambda': 0}         \n",
      "XGBClassifier -  undersample\n",
      "-------------------------         \n",
      "Jakosc predykcji:\t\t0.643645         \n",
      "AUC score:\t\t\t0.804144         \n",
      "f1 score:\t\t\t0.063613         \n",
      "Parametry:\t\t\t{'model__learning_rate': 0.05, 'model__n_estimators': 376, 'model__reg_alpha': 0, 'model__reg_lambda': 0.54}\n"
     ]
    },
    {
     "data": {
      "text/html": [
       "<div>\n",
       "<style scoped>\n",
       "    .dataframe tbody tr th:only-of-type {\n",
       "        vertical-align: middle;\n",
       "    }\n",
       "\n",
       "    .dataframe tbody tr th {\n",
       "        vertical-align: top;\n",
       "    }\n",
       "\n",
       "    .dataframe thead th {\n",
       "        text-align: right;\n",
       "    }\n",
       "</style>\n",
       "<table border=\"1\" class=\"dataframe\">\n",
       "  <thead>\n",
       "    <tr style=\"text-align: right;\">\n",
       "      <th></th>\n",
       "      <th>Jakość predykcji_ov</th>\n",
       "      <th>f1_score_ov</th>\n",
       "      <th>AUC_ov</th>\n",
       "      <th>Jakość predykcji_un</th>\n",
       "      <th>f1_score_un</th>\n",
       "      <th>AUC_un</th>\n",
       "    </tr>\n",
       "  </thead>\n",
       "  <tbody>\n",
       "    <tr>\n",
       "      <th>RandomForestClassifier</th>\n",
       "      <td>0.9490</td>\n",
       "      <td>0.108434</td>\n",
       "      <td>0.8232</td>\n",
       "      <td>0.5766</td>\n",
       "      <td>0.108434</td>\n",
       "      <td>0.7831</td>\n",
       "    </tr>\n",
       "    <tr>\n",
       "      <th>BaggingClassifier_regression</th>\n",
       "      <td>0.9247</td>\n",
       "      <td>0.083061</td>\n",
       "      <td>0.7839</td>\n",
       "      <td>0.6474</td>\n",
       "      <td>0.083061</td>\n",
       "      <td>0.7827</td>\n",
       "    </tr>\n",
       "    <tr>\n",
       "      <th>LogisticRegression</th>\n",
       "      <td>0.9245</td>\n",
       "      <td>0.083721</td>\n",
       "      <td>0.7835</td>\n",
       "      <td>0.6143</td>\n",
       "      <td>0.083721</td>\n",
       "      <td>0.7798</td>\n",
       "    </tr>\n",
       "    <tr>\n",
       "      <th>DecisionTree</th>\n",
       "      <td>0.9133</td>\n",
       "      <td>0.070637</td>\n",
       "      <td>0.7498</td>\n",
       "      <td>0.5288</td>\n",
       "      <td>0.070637</td>\n",
       "      <td>0.7641</td>\n",
       "    </tr>\n",
       "    <tr>\n",
       "      <th>XGBClassifier</th>\n",
       "      <td>0.9300</td>\n",
       "      <td>0.110029</td>\n",
       "      <td>0.8067</td>\n",
       "      <td>0.6436</td>\n",
       "      <td>0.110029</td>\n",
       "      <td>0.8041</td>\n",
       "    </tr>\n",
       "  </tbody>\n",
       "</table>\n",
       "</div>"
      ],
      "text/plain": [
       "                              Jakość predykcji_ov  f1_score_ov  AUC_ov  \\\n",
       "RandomForestClassifier                     0.9490     0.108434  0.8232   \n",
       "BaggingClassifier_regression               0.9247     0.083061  0.7839   \n",
       "LogisticRegression                         0.9245     0.083721  0.7835   \n",
       "DecisionTree                               0.9133     0.070637  0.7498   \n",
       "XGBClassifier                              0.9300     0.110029  0.8067   \n",
       "\n",
       "                              Jakość predykcji_un  f1_score_un  AUC_un  \n",
       "RandomForestClassifier                     0.5766     0.108434  0.7831  \n",
       "BaggingClassifier_regression               0.6474     0.083061  0.7827  \n",
       "LogisticRegression                         0.6143     0.083721  0.7798  \n",
       "DecisionTree                               0.5288     0.070637  0.7641  \n",
       "XGBClassifier                              0.6436     0.110029  0.8041  "
      ]
     },
     "execution_count": 339,
     "metadata": {},
     "output_type": "execute_result"
    }
   ],
   "source": [
    "names = [\"RandomForestClassifier\",\n",
    "         \"BaggingClassifier_regression\",\n",
    "        \"LogisticRegression\",\n",
    "        \"DecisionTree\",\n",
    "        \"XGBClassifier\"\n",
    "        ]\n",
    "\n",
    "models = [[(\"model\",RandomForestClassifier())],\n",
    "          [(\"scale\",StandardScaler()), (\"model\",BaggingClassifier(LogisticRegression()))],\n",
    "          [(\"scale\",StandardScaler()), (\"model\",LogisticRegression())],\n",
    "         [(\"model\",DecisionTreeClassifier())],\n",
    "         [(\"model\",XGBClassifier())]\n",
    "         ]\n",
    "\n",
    "param_grids = [{\"model__n_estimators\":[299,367,837],\n",
    "                \"model__min_samples_leaf\":[87,93,97,100]\n",
    "                },\n",
    "              {\"model__n_estimators\":[10, 50, 100],\n",
    "               },\n",
    "               {\n",
    "                 \"model__penalty\":[\"l1\"],\n",
    "                  \"model__C\":[0.1,1,10,100,200,1000]\n",
    "               },\n",
    "             {\"model__criterion\":[\"gini\",\"entropy\"],\n",
    "             \"model__max_depth\":[1,2,3,4,5,6,7]\n",
    "             },\n",
    "             {\"model__n_estimators\":[100,376],\n",
    "             \"model__learning_rate\":[0.05,0.25],\n",
    "             \"model__reg_alpha\":[0,0.5,2.3,2.4],\n",
    "             \"model__reg_lambda\":[0,0.54,1]}\n",
    "              ]       \n",
    "\n",
    "\n",
    "if not (len(names) == len(models) and len(models) == len(param_grids)):\n",
    "    raise ValueError(\"Dlugosci sie nie zgadzaja!\")\n",
    "\n",
    "best_models = []\n",
    "best_params = []\n",
    "jakosc_pred = []\n",
    "f1_scr = []\n",
    "auc_scr = []\n",
    "\n",
    "\n",
    "best_models1 = []\n",
    "best_params1 = []\n",
    "jakosc_pred1 = []\n",
    "f1_scr1 = []\n",
    "auc_scr1 = []\n",
    "\n",
    "for name, pipe, params in zip(names, models,param_grids):\n",
    "    print(\"---!!!---\", name)\n",
    "    pipeline = Pipeline(pipe)\n",
    "    print(pipeline) \n",
    "\n",
    "    gs = GridSearchCV(estimator=pipeline, param_grid=params,refit=True, return_train_score=True)\n",
    "    \n",
    "    gs.fit(X_train_oversample,y_train_oversample)\n",
    "    y_pred = gs.predict(X_test)\n",
    "    best_models.append(gs.best_estimator_) \n",
    "    best_params.append(gs.best_params_)\n",
    "    auc_scr.append((roc_auc_score(y_true=y_test, y_score=gs.predict_proba(X_test)[:,1]).round(4)))\n",
    "    jakosc_pred.append((accuracy_score(gs.predict(X_test),y_test).round(4)))\n",
    "    f1_scr.append((f1_score(y_true=y_test,y_pred=y_pred)))\n",
    "    \n",
    "    gs.fit(X_train_undersample,y_train_undersample)\n",
    "    y_pred1 = gs.predict(X_test)\n",
    "    best_models1.append(gs.best_estimator_) \n",
    "    best_params1.append(gs.best_params_)\n",
    "    auc_scr1.append((roc_auc_score(y_true=y_test, y_score=gs.predict_proba(X_test)[:,1]).round(4)))\n",
    "    jakosc_pred1.append((accuracy_score(gs.predict(X_test),y_test).round(4)))\n",
    "    f1_scr1.append((f1_score(y_true=y_test,y_pred=y_pred)))\n",
    "\n",
    "for name, best_model,best_model1, best_param, best_param1 in zip(names, best_models,best_models1, best_params,best_params1):\n",
    "    print(f\"\\n{name} -  oversample\\n------------------------- \\\n",
    "        \\nJakosc predykcji:\\t\\t{accuracy_score(best_model.predict(X_test),y_test):3f} \\\n",
    "        \\nAUC score:\\t\\t\\t{roc_auc_score(y_true=y_test, y_score=best_model.predict_proba(X_test)[:,1]):3f} \\\n",
    "        \\nDf1 score:\\t\\t\\t{f1_score(y_true=y_test,y_pred=y_pred):3f} \\\n",
    "        \\nParametry:\\t\\t\\t{best_param} \\\n",
    "        \\n{name} -  undersample\\n------------------------- \\\n",
    "        \\nJakosc predykcji:\\t\\t{accuracy_score(best_model1.predict(X_test),y_test):3f} \\\n",
    "        \\nAUC score:\\t\\t\\t{roc_auc_score(y_true=y_test, y_score=best_model1.predict_proba(X_test)[:,1]):3f} \\\n",
    "        \\nf1 score:\\t\\t\\t{f1_score(y_true=y_test,y_pred=y_pred1):3f} \\\n",
    "        \\nParametry:\\t\\t\\t{best_param1}\")\n",
    "\n",
    "wynik = pd.DataFrame({'Jakość predykcji_ov':jakosc_pred,'f1_score_ov':f1_scr,'AUC_ov':auc_scr, \\\n",
    "                     'Jakość predykcji_un':jakosc_pred1,'f1_score_un':f1_scr1,'AUC_un':auc_scr1,},index=names)\n",
    "wynik"
   ]
  },
  {
   "cell_type": "code",
   "execution_count": null,
   "metadata": {},
   "outputs": [],
   "source": []
  }
 ],
 "metadata": {
  "kernelspec": {
   "display_name": "Python 3",
   "language": "python",
   "name": "python3"
  },
  "language_info": {
   "codemirror_mode": {
    "name": "ipython",
    "version": 3
   },
   "file_extension": ".py",
   "mimetype": "text/x-python",
   "name": "python",
   "nbconvert_exporter": "python",
   "pygments_lexer": "ipython3",
   "version": "3.6.8"
  }
 },
 "nbformat": 4,
 "nbformat_minor": 2
}
